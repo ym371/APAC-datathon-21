{
 "metadata": {
  "language_info": {
   "codemirror_mode": {
    "name": "ipython",
    "version": 3
   },
   "file_extension": ".py",
   "mimetype": "text/x-python",
   "name": "python",
   "nbconvert_exporter": "python",
   "pygments_lexer": "ipython3",
   "version": "3.7.7-final"
  },
  "orig_nbformat": 2,
  "kernelspec": {
   "name": "python3",
   "display_name": "Python 3.7.7 64-bit (conda)",
   "metadata": {
    "interpreter": {
     "hash": "d462791d6a79517bbe83a9adfccb6a9e86bc4c7493affc331b555533b5cb22ec"
    }
   }
  }
 },
 "nbformat": 4,
 "nbformat_minor": 2,
 "cells": [
  {
   "cell_type": "code",
   "execution_count": 13,
   "metadata": {},
   "outputs": [],
   "source": [
    "import pandas as pd\n",
    "import numpy as np"
   ]
  },
  {
   "cell_type": "code",
   "execution_count": 14,
   "metadata": {},
   "outputs": [],
   "source": [
    "away_scores = pd.read_csv(\"../groupscores/awaydogswin.csv\")\n",
    "home_scores = pd.read_csv(\"../groupscores/homedogswin.csv\")"
   ]
  },
  {
   "cell_type": "code",
   "execution_count": 15,
   "metadata": {},
   "outputs": [
    {
     "output_type": "stream",
     "name": "stdout",
     "text": [
      "188\n"
     ]
    }
   ],
   "source": [
    "teams = set()\n",
    "for home_team in home_scores[\"home_team_id\"]:\n",
    "    for away_team in away_scores[\"away_team_id\"]:\n",
    "        if home_team == away_team:\n",
    "            teams.add(int(away_team))\n",
    "            break\n",
    "print(len(teams))"
   ]
  },
  {
   "cell_type": "code",
   "execution_count": 27,
   "metadata": {},
   "outputs": [
    {
     "output_type": "stream",
     "name": "stdout",
     "text": [
      "     team_id  away_dog_wins  away_dog_games  home_dog_wins  home_dog_games  \\\n0      10242            0.0             0.0            0.0             0.0   \n1       8197            0.0             0.0            0.0             0.0   \n2      10249            0.0             0.0            0.0             0.0   \n3       8203            0.0             0.0            0.0             0.0   \n4      10251            0.0             0.0            0.0             0.0   \n..       ...            ...             ...            ...             ...   \n183    10229            0.0             0.0            0.0             0.0   \n184     4087            0.0             0.0            0.0             0.0   \n185     8697            0.0             0.0            0.0             0.0   \n186    10238            0.0             0.0            0.0             0.0   \n187     8191            0.0             0.0            0.0             0.0   \n\n     total_dog_games  total_dog_games  away_dog_scores  home_dog_scores  \\\n0                0.0              0.0              0.0              0.0   \n1                0.0              0.0              0.0              0.0   \n2                0.0              0.0              0.0              0.0   \n3                0.0              0.0              0.0              0.0   \n4                0.0              0.0              0.0              0.0   \n..               ...              ...              ...              ...   \n183              0.0              0.0              0.0              0.0   \n184              0.0              0.0              0.0              0.0   \n185              0.0              0.0              0.0              0.0   \n186              0.0              0.0              0.0              0.0   \n187              0.0              0.0              0.0              0.0   \n\n     total_dog_scores  \n0                 0.0  \n1                 0.0  \n2                 0.0  \n3                 0.0  \n4                 0.0  \n..                ...  \n183               0.0  \n184               0.0  \n185               0.0  \n186               0.0  \n187               0.0  \n\n[188 rows x 10 columns]\n"
     ]
    }
   ],
   "source": [
    "data_frame = pd.DataFrame(np.zeros((len(teams), 10)), columns=['team_id', 'away_dog_wins', 'away_dog_games', 'home_dog_wins', \"home_dog_games\", \"total_dog_games\", \"total_dog_games\", \"away_dog_scores\", \"home_dog_scores\", \"total_dog_scores\"])\r\n",
    "data_frame.loc[:,(\"team_id\")] = teams\r\n",
    "print(data_frame)\r\n",
    "for i in range(0, len(data_frame)):\r\n",
    "    data_frame.loc(i, \"away_dog_wins\")  = "
   ]
  },
  {
   "cell_type": "code",
   "execution_count": 21,
   "metadata": {},
   "outputs": [],
   "source": [
    "df = pd.DataFrame(np.arange(24).reshape((6,4)), columns=['A','B','C','D'])"
   ]
  },
  {
   "cell_type": "code",
   "execution_count": 24,
   "metadata": {},
   "outputs": [
    {
     "output_type": "execute_result",
     "data": {
      "text/plain": [
       "array([[0., 0.],\n",
       "       [0., 0.]])"
      ]
     },
     "metadata": {},
     "execution_count": 24
    }
   ],
   "source": [
    "np.zeros((2,2))"
   ]
  },
  {
   "cell_type": "code",
   "execution_count": null,
   "metadata": {},
   "outputs": [],
   "source": []
  }
 ]
}