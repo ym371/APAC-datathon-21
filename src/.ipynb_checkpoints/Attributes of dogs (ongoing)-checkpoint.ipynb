{
 "cells": [
  {
   "cell_type": "code",
   "execution_count": 1,
   "metadata": {},
   "outputs": [],
   "source": [
    "import numpy as np # linear algebra\n",
    "import pandas as pd # data processing, CSV file I/O (e.g. pd.read_csv)\n",
    "import seaborn as sns \n",
    "import matplotlib.pyplot as plt"
   ]
  },
  {
   "cell_type": "code",
   "execution_count": 2,
   "metadata": {},
   "outputs": [],
   "source": [
    "country = pd.read_csv(\"../dataset/country.csv\")\n",
    "league = pd.read_csv(\"../dataset/league.csv\")\n",
    "match = pd.read_csv(\"../dataset/match.csv\")\n",
    "player = pd.read_csv(\"../dataset/player.csv\")\n",
    "player_attributes = pd.read_csv(\"../dataset/player_attributes.csv\")\n",
    "team = pd.read_csv(\"../dataset/team.csv\", encoding = \"ISO-8859-1\")\n",
    "team_attributes = pd.read_csv(\"../dataset/team_attributes.csv\")"
   ]
  },
  {
   "cell_type": "code",
   "execution_count": 4,
   "metadata": {},
   "outputs": [],
   "source": [
    "homedogswin = pd.read_csv(\"../dogscore/homedogswin.csv\", index_col = 0)\n",
    "awaydogswin = pd.read_csv(\"../dogscore/awaydogswin.csv\", index_col = 0 )\n",
    "match1 = pd.read_csv(\"../dogscore/match1.csv\", index_col = 0)"
   ]
  },
  {
   "cell_type": "code",
   "execution_count": 115,
   "metadata": {
    "scrolled": true
   },
   "outputs": [
    {
     "data": {
      "text/html": [
       "<div>\n",
       "<style scoped>\n",
       "    .dataframe tbody tr th:only-of-type {\n",
       "        vertical-align: middle;\n",
       "    }\n",
       "\n",
       "    .dataframe tbody tr th {\n",
       "        vertical-align: top;\n",
       "    }\n",
       "\n",
       "    .dataframe thead th {\n",
       "        text-align: right;\n",
       "    }\n",
       "</style>\n",
       "<table border=\"1\" class=\"dataframe\">\n",
       "  <thead>\n",
       "    <tr style=\"text-align: right;\">\n",
       "      <th></th>\n",
       "      <th>home_team_id</th>\n",
       "      <th>wins</th>\n",
       "      <th>games</th>\n",
       "      <th>dogscore</th>\n",
       "    </tr>\n",
       "  </thead>\n",
       "  <tbody>\n",
       "    <tr>\n",
       "      <td>1</td>\n",
       "      <td>1773</td>\n",
       "      <td>3</td>\n",
       "      <td>11</td>\n",
       "      <td>0.272727</td>\n",
       "    </tr>\n",
       "    <tr>\n",
       "      <td>2</td>\n",
       "      <td>2033</td>\n",
       "      <td>1</td>\n",
       "      <td>22</td>\n",
       "      <td>0.045455</td>\n",
       "    </tr>\n",
       "    <tr>\n",
       "      <td>3</td>\n",
       "      <td>4087</td>\n",
       "      <td>2</td>\n",
       "      <td>13</td>\n",
       "      <td>0.153846</td>\n",
       "    </tr>\n",
       "    <tr>\n",
       "      <td>4</td>\n",
       "      <td>6269</td>\n",
       "      <td>2</td>\n",
       "      <td>5</td>\n",
       "      <td>0.400000</td>\n",
       "    </tr>\n",
       "    <tr>\n",
       "      <td>5</td>\n",
       "      <td>6367</td>\n",
       "      <td>1</td>\n",
       "      <td>4</td>\n",
       "      <td>0.250000</td>\n",
       "    </tr>\n",
       "    <tr>\n",
       "      <td>...</td>\n",
       "      <td>...</td>\n",
       "      <td>...</td>\n",
       "      <td>...</td>\n",
       "      <td>...</td>\n",
       "    </tr>\n",
       "    <tr>\n",
       "      <td>172</td>\n",
       "      <td>10267</td>\n",
       "      <td>1</td>\n",
       "      <td>15</td>\n",
       "      <td>0.066667</td>\n",
       "    </tr>\n",
       "    <tr>\n",
       "      <td>173</td>\n",
       "      <td>10281</td>\n",
       "      <td>4</td>\n",
       "      <td>11</td>\n",
       "      <td>0.363636</td>\n",
       "    </tr>\n",
       "    <tr>\n",
       "      <td>174</td>\n",
       "      <td>158085</td>\n",
       "      <td>1</td>\n",
       "      <td>10</td>\n",
       "      <td>0.100000</td>\n",
       "    </tr>\n",
       "    <tr>\n",
       "      <td>175</td>\n",
       "      <td>208931</td>\n",
       "      <td>1</td>\n",
       "      <td>7</td>\n",
       "      <td>0.142857</td>\n",
       "    </tr>\n",
       "    <tr>\n",
       "      <td>176</td>\n",
       "      <td>274581</td>\n",
       "      <td>3</td>\n",
       "      <td>7</td>\n",
       "      <td>0.428571</td>\n",
       "    </tr>\n",
       "  </tbody>\n",
       "</table>\n",
       "<p>176 rows × 4 columns</p>\n",
       "</div>"
      ],
      "text/plain": [
       "     home_team_id  wins  games  dogscore\n",
       "1            1773     3     11  0.272727\n",
       "2            2033     1     22  0.045455\n",
       "3            4087     2     13  0.153846\n",
       "4            6269     2      5  0.400000\n",
       "5            6367     1      4  0.250000\n",
       "..            ...   ...    ...       ...\n",
       "172         10267     1     15  0.066667\n",
       "173         10281     4     11  0.363636\n",
       "174        158085     1     10  0.100000\n",
       "175        208931     1      7  0.142857\n",
       "176        274581     3      7  0.428571\n",
       "\n",
       "[176 rows x 4 columns]"
      ]
     },
     "execution_count": 115,
     "metadata": {},
     "output_type": "execute_result"
    }
   ],
   "source": [
    "homedogswin"
   ]
  },
  {
   "cell_type": "markdown",
   "metadata": {},
   "source": [
    "# which are the teams with the highest dog score\n"
   ]
  },
  {
   "cell_type": "code",
   "execution_count": 29,
   "metadata": {},
   "outputs": [
    {
     "name": "stderr",
     "output_type": "stream",
     "text": [
      "D:\\softwares\\anaconda\\envs\\data science\\lib\\site-packages\\ipykernel_launcher.py:3: UserWarning: Boolean Series key will be reindexed to match DataFrame index.\n",
      "  This is separate from the ipykernel package so we can avoid doing imports until\n",
      "D:\\softwares\\anaconda\\envs\\data science\\lib\\site-packages\\ipykernel_launcher.py:4: UserWarning: Boolean Series key will be reindexed to match DataFrame index.\n",
      "  after removing the cwd from sys.path.\n"
     ]
    }
   ],
   "source": [
    "# find dog teams with score > 0.4, much higher than predicted probability (<1/3.5)\n",
    "benchmark = .4\n",
    "high_dog_home = homedogswin.sort_values(by = \"dogscore\", ascending = False)[homedogswin.dogscore >= benchmark]\n",
    "high_dog_away = awaydogswin.sort_values(by = \"dogscore\", ascending = False)[awaydogswin.dogscore >= benchmark]"
   ]
  },
  {
   "cell_type": "code",
   "execution_count": 114,
   "metadata": {},
   "outputs": [
    {
     "data": {
      "text/html": [
       "<div>\n",
       "<style scoped>\n",
       "    .dataframe tbody tr th:only-of-type {\n",
       "        vertical-align: middle;\n",
       "    }\n",
       "\n",
       "    .dataframe tbody tr th {\n",
       "        vertical-align: top;\n",
       "    }\n",
       "\n",
       "    .dataframe thead th {\n",
       "        text-align: right;\n",
       "    }\n",
       "</style>\n",
       "<table border=\"1\" class=\"dataframe\">\n",
       "  <thead>\n",
       "    <tr style=\"text-align: right;\">\n",
       "      <th></th>\n",
       "      <th>away_team_id</th>\n",
       "      <th>wins</th>\n",
       "      <th>games</th>\n",
       "      <th>dogscore</th>\n",
       "    </tr>\n",
       "  </thead>\n",
       "  <tbody>\n",
       "    <tr>\n",
       "      <td>105</td>\n",
       "      <td>8635</td>\n",
       "      <td>1</td>\n",
       "      <td>1</td>\n",
       "      <td>1.000000</td>\n",
       "    </tr>\n",
       "    <tr>\n",
       "      <td>189</td>\n",
       "      <td>9925</td>\n",
       "      <td>1</td>\n",
       "      <td>1</td>\n",
       "      <td>1.000000</td>\n",
       "    </tr>\n",
       "    <tr>\n",
       "      <td>96</td>\n",
       "      <td>8593</td>\n",
       "      <td>2</td>\n",
       "      <td>3</td>\n",
       "      <td>0.666667</td>\n",
       "    </tr>\n",
       "    <tr>\n",
       "      <td>65</td>\n",
       "      <td>8479</td>\n",
       "      <td>4</td>\n",
       "      <td>8</td>\n",
       "      <td>0.500000</td>\n",
       "    </tr>\n",
       "    <tr>\n",
       "      <td>34</td>\n",
       "      <td>8262</td>\n",
       "      <td>6</td>\n",
       "      <td>15</td>\n",
       "      <td>0.400000</td>\n",
       "    </tr>\n",
       "    <tr>\n",
       "      <td>108</td>\n",
       "      <td>8640</td>\n",
       "      <td>2</td>\n",
       "      <td>5</td>\n",
       "      <td>0.400000</td>\n",
       "    </tr>\n",
       "  </tbody>\n",
       "</table>\n",
       "</div>"
      ],
      "text/plain": [
       "     away_team_id  wins  games  dogscore\n",
       "105          8635     1      1  1.000000\n",
       "189          9925     1      1  1.000000\n",
       "96           8593     2      3  0.666667\n",
       "65           8479     4      8  0.500000\n",
       "34           8262     6     15  0.400000\n",
       "108          8640     2      5  0.400000"
      ]
     },
     "execution_count": 114,
     "metadata": {},
     "output_type": "execute_result"
    }
   ],
   "source": [
    "high_dog_away"
   ]
  },
  {
   "cell_type": "code",
   "execution_count": 46,
   "metadata": {},
   "outputs": [
    {
     "data": {
      "text/plain": [
       "60       8548\n",
       "97       9748\n",
       "68       8573\n",
       "26       8295\n",
       "22       8203\n",
       "72       8586\n",
       "130      9875\n",
       "65       8560\n",
       "6        6391\n",
       "80       8636\n",
       "82       8650\n",
       "163     10229\n",
       "110      9809\n",
       "88       8668\n",
       "128      9873\n",
       "176    274581\n",
       "137      9905\n",
       "4        6269\n",
       "103      9790\n",
       "105      8635\n",
       "189      9925\n",
       "96       8593\n",
       "65       8479\n",
       "34       8262\n",
       "108      8640\n",
       "dtype: int64"
      ]
     },
     "execution_count": 46,
     "metadata": {},
     "output_type": "execute_result"
    }
   ],
   "source": [
    "team_names_home = high_dog_home[\"home_team_id\"]\n",
    "team_names_away = high_dog_away[\"away_team_id\"]\n",
    "team_names = team_names_home.append(team_names_away).drop_duplicates()\n",
    "team_names"
   ]
  },
  {
   "cell_type": "markdown",
   "metadata": {},
   "source": [
    "# Analyse attributes of these teams"
   ]
  },
  {
   "cell_type": "code",
   "execution_count": 59,
   "metadata": {
    "scrolled": false
   },
   "outputs": [
    {
     "name": "stdout",
     "output_type": "stream",
     "text": [
      "<class 'pandas.core.frame.DataFrame'>\n",
      "Int64Index: 125 entries, 33 to 1318\n",
      "Data columns (total 23 columns):\n",
      "team_id                           125 non-null int64\n",
      "date                              125 non-null object\n",
      "buildUpPlaySpeed                  125 non-null int64\n",
      "buildUpPlaySpeedClass             125 non-null object\n",
      "buildUpPlayDribbling              44 non-null float64\n",
      "buildUpPlayDribblingClass         125 non-null object\n",
      "buildUpPlayPassing                125 non-null int64\n",
      "buildUpPlayPassingClass           125 non-null object\n",
      "buildUpPlayPositioningClass       125 non-null object\n",
      "chanceCreationPassing             125 non-null int64\n",
      "chanceCreationPassingClass        125 non-null object\n",
      "chanceCreationCrossing            125 non-null int64\n",
      "chanceCreationCrossingClass       125 non-null object\n",
      "chanceCreationShooting            125 non-null int64\n",
      "chanceCreationShootingClass       125 non-null object\n",
      "chanceCreationPositioningClass    125 non-null object\n",
      "defencePressure                   125 non-null int64\n",
      "defencePressureClass              125 non-null object\n",
      "defenceAggression                 125 non-null int64\n",
      "defenceAggressionClass            125 non-null object\n",
      "defenceTeamWidth                  125 non-null int64\n",
      "defenceTeamWidthClass             125 non-null object\n",
      "defenceDefenderLineClass          125 non-null object\n",
      "dtypes: float64(1), int64(9), object(13)\n",
      "memory usage: 23.4+ KB\n"
     ]
    }
   ],
   "source": [
    "attributes = team_attributes[team_attributes.team_id.isin(team_names)]\n",
    "attributes.info()"
   ]
  },
  {
   "cell_type": "code",
   "execution_count": 65,
   "metadata": {},
   "outputs": [],
   "source": [
    "num_col = ['buildUpPlaySpeed', 'buildUpPlayDribbling',\n",
    "       'buildUpPlayPassing', 'chanceCreationPassing', 'chanceCreationCrossing',\n",
    "       'chanceCreationShooting', 'defencePressure', 'defenceAggression',\n",
    "       'defenceTeamWidth']\n",
    "cat_col = ['buildUpPlaySpeedClass','buildUpPlayDribblingClass','buildUpPlayPassingClass','buildUpPlayPositioningClass','chanceCreationPassingClass',\n",
    "           'chanceCreationCrossingClass', 'chanceCreationShootingClass' ,'chanceCreationPositioningClass', 'defencePressureClass' 'defencePressureClass'\n",
    "           'defenceAggressionClass', 'defenceTeamWidthClass', 'defenceDefenderLineClass']"
   ]
  },
  {
   "cell_type": "code",
   "execution_count": 86,
   "metadata": {
    "scrolled": true
   },
   "outputs": [
    {
     "name": "stdout",
     "output_type": "stream",
     "text": [
      "buildUpPlaySpeed 52.736 52.46227709190672\n",
      "buildUpPlayDribbling 50.18181818181818 48.607361963190186\n",
      "buildUpPlayPassing 47.32 48.49039780521262\n",
      "chanceCreationPassing 52.408 52.16529492455418\n",
      "chanceCreationCrossing 55.12 53.731824417009605\n",
      "chanceCreationShooting 55.904 53.96913580246913\n",
      "defencePressure 48.344 46.01714677640604\n",
      "defenceAggression 51.52 49.251028806584365\n",
      "defenceTeamWidth 53.304 52.185871056241425\n"
     ]
    }
   ],
   "source": [
    "for i in num_col:\n",
    "    print(i, attributes[i].mean(), team_attributes[i].mean())"
   ]
  },
  {
   "cell_type": "markdown",
   "metadata": {},
   "source": [
    "Finding: Dogs are likely to have higher buildUpPlayDribbling, chanceCreationCrossing, chanceCreationShooting, defencePressure, defenceAggression, defenceTeamWidth \n",
    "Can possibly undertake hypothesis testing on these."
   ]
  },
  {
   "cell_type": "code",
   "execution_count": 111,
   "metadata": {},
   "outputs": [
    {
     "name": "stderr",
     "output_type": "stream",
     "text": [
      "D:\\softwares\\anaconda\\envs\\data science\\lib\\site-packages\\ipykernel_launcher.py:3: SettingWithCopyWarning: \n",
      "A value is trying to be set on a copy of a slice from a DataFrame.\n",
      "Try using .loc[row_indexer,col_indexer] = value instead\n",
      "\n",
      "See the caveats in the documentation: http://pandas.pydata.org/pandas-docs/stable/user_guide/indexing.html#returning-a-view-versus-a-copy\n",
      "  This is separate from the ipykernel package so we can avoid doing imports until\n"
     ]
    }
   ],
   "source": []
  },
  {
   "cell_type": "code",
   "execution_count": null,
   "metadata": {},
   "outputs": [],
   "source": []
  }
 ],
 "metadata": {
  "kernelspec": {
   "display_name": "Python [conda env:data science]",
   "language": "python",
   "name": "conda-env-data_science-py"
  },
  "language_info": {
   "codemirror_mode": {
    "name": "ipython",
    "version": 3
   },
   "file_extension": ".py",
   "mimetype": "text/x-python",
   "name": "python",
   "nbconvert_exporter": "python",
   "pygments_lexer": "ipython3",
   "version": "3.6.9"
  },
  "toc": {
   "base_numbering": 1,
   "nav_menu": {},
   "number_sections": true,
   "sideBar": true,
   "skip_h1_title": false,
   "title_cell": "Table of Contents",
   "title_sidebar": "Contents",
   "toc_cell": false,
   "toc_position": {},
   "toc_section_display": true,
   "toc_window_display": false
  }
 },
 "nbformat": 4,
 "nbformat_minor": 2
}
