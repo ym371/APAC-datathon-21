{
 "cells": [
  {
   "cell_type": "code",
   "execution_count": 53,
   "metadata": {},
   "outputs": [],
   "source": [
    "import numpy as np # linear algebra\n",
    "import pandas as pd # data processing, CSV file I/O (e.g. pd.read_csv)\n",
    "import seaborn as sns \n",
    "import matplotlib.pyplot as plt\n",
    "from sklearn.preprocessing import LabelEncoder"
   ]
  },
  {
   "cell_type": "code",
   "execution_count": 54,
   "metadata": {},
   "outputs": [],
   "source": [
    "country = pd.read_csv(\"../dataset/country.csv\")\n",
    "league = pd.read_csv(\"../dataset/league.csv\")\n",
    "match = pd.read_csv(\"../dataset/match.csv\")\n",
    "player = pd.read_csv(\"../dataset/player.csv\")\n",
    "player_attributes = pd.read_csv(\"../dataset/player_attributes.csv\")\n",
    "team = pd.read_csv(\"../dataset/team.csv\", encoding = \"ISO-8859-1\")\n",
    "team_attributes = pd.read_csv(\"../dataset/team_attributes.csv\")"
   ]
  },
  {
   "cell_type": "code",
   "execution_count": 55,
   "metadata": {},
   "outputs": [],
   "source": [
    "homedogswin = pd.read_csv(\"../groupscores/homedogswin.csv\", index_col = 0)\n",
    "awaydogswin = pd.read_csv(\"../groupscores/awaydogswin.csv\", index_col = 0 )\n",
    "match1 = pd.read_csv(\"../groupscores/match1.csv\", index_col = 0)"
   ]
  },
  {
   "cell_type": "code",
   "execution_count": 56,
   "metadata": {
    "scrolled": true
   },
   "outputs": [
    {
     "data": {
      "text/html": [
       "<div>\n",
       "<style scoped>\n",
       "    .dataframe tbody tr th:only-of-type {\n",
       "        vertical-align: middle;\n",
       "    }\n",
       "\n",
       "    .dataframe tbody tr th {\n",
       "        vertical-align: top;\n",
       "    }\n",
       "\n",
       "    .dataframe thead th {\n",
       "        text-align: right;\n",
       "    }\n",
       "</style>\n",
       "<table border=\"1\" class=\"dataframe\">\n",
       "  <thead>\n",
       "    <tr style=\"text-align: right;\">\n",
       "      <th></th>\n",
       "      <th>wins</th>\n",
       "      <th>games</th>\n",
       "      <th>dogscore</th>\n",
       "    </tr>\n",
       "    <tr>\n",
       "      <th>home_team_id</th>\n",
       "      <th></th>\n",
       "      <th></th>\n",
       "      <th></th>\n",
       "    </tr>\n",
       "  </thead>\n",
       "  <tbody>\n",
       "    <tr>\n",
       "      <td>1773</td>\n",
       "      <td>3</td>\n",
       "      <td>11</td>\n",
       "      <td>0.272727</td>\n",
       "    </tr>\n",
       "    <tr>\n",
       "      <td>2033</td>\n",
       "      <td>1</td>\n",
       "      <td>24</td>\n",
       "      <td>0.041667</td>\n",
       "    </tr>\n",
       "    <tr>\n",
       "      <td>4049</td>\n",
       "      <td>2</td>\n",
       "      <td>8</td>\n",
       "      <td>0.250000</td>\n",
       "    </tr>\n",
       "    <tr>\n",
       "      <td>4087</td>\n",
       "      <td>2</td>\n",
       "      <td>14</td>\n",
       "      <td>0.142857</td>\n",
       "    </tr>\n",
       "    <tr>\n",
       "      <td>6269</td>\n",
       "      <td>2</td>\n",
       "      <td>6</td>\n",
       "      <td>0.333333</td>\n",
       "    </tr>\n",
       "    <tr>\n",
       "      <td>...</td>\n",
       "      <td>...</td>\n",
       "      <td>...</td>\n",
       "      <td>...</td>\n",
       "    </tr>\n",
       "    <tr>\n",
       "      <td>10281</td>\n",
       "      <td>4</td>\n",
       "      <td>12</td>\n",
       "      <td>0.333333</td>\n",
       "    </tr>\n",
       "    <tr>\n",
       "      <td>108893</td>\n",
       "      <td>1</td>\n",
       "      <td>13</td>\n",
       "      <td>0.076923</td>\n",
       "    </tr>\n",
       "    <tr>\n",
       "      <td>158085</td>\n",
       "      <td>2</td>\n",
       "      <td>12</td>\n",
       "      <td>0.166667</td>\n",
       "    </tr>\n",
       "    <tr>\n",
       "      <td>208931</td>\n",
       "      <td>1</td>\n",
       "      <td>7</td>\n",
       "      <td>0.142857</td>\n",
       "    </tr>\n",
       "    <tr>\n",
       "      <td>274581</td>\n",
       "      <td>3</td>\n",
       "      <td>7</td>\n",
       "      <td>0.428571</td>\n",
       "    </tr>\n",
       "  </tbody>\n",
       "</table>\n",
       "<p>189 rows × 3 columns</p>\n",
       "</div>"
      ],
      "text/plain": [
       "              wins  games  dogscore\n",
       "home_team_id                       \n",
       "1773             3     11  0.272727\n",
       "2033             1     24  0.041667\n",
       "4049             2      8  0.250000\n",
       "4087             2     14  0.142857\n",
       "6269             2      6  0.333333\n",
       "...            ...    ...       ...\n",
       "10281            4     12  0.333333\n",
       "108893           1     13  0.076923\n",
       "158085           2     12  0.166667\n",
       "208931           1      7  0.142857\n",
       "274581           3      7  0.428571\n",
       "\n",
       "[189 rows x 3 columns]"
      ]
     },
     "execution_count": 56,
     "metadata": {},
     "output_type": "execute_result"
    }
   ],
   "source": [
    "homedogswin"
   ]
  },
  {
   "cell_type": "markdown",
   "metadata": {},
   "source": [
    "# which are the teams with the highest dog score\n"
   ]
  },
  {
   "cell_type": "code",
   "execution_count": 57,
   "metadata": {},
   "outputs": [
    {
     "name": "stderr",
     "output_type": "stream",
     "text": [
      "D:\\softwares\\anaconda\\envs\\data science\\lib\\site-packages\\ipykernel_launcher.py:3: UserWarning: Boolean Series key will be reindexed to match DataFrame index.\n",
      "  This is separate from the ipykernel package so we can avoid doing imports until\n",
      "D:\\softwares\\anaconda\\envs\\data science\\lib\\site-packages\\ipykernel_launcher.py:4: UserWarning: Boolean Series key will be reindexed to match DataFrame index.\n",
      "  after removing the cwd from sys.path.\n"
     ]
    }
   ],
   "source": [
    "# find dog teams with score > 0.4, much higher than predicted probability (<1/3.5)\n",
    "benchmark = .4\n",
    "high_dog_home = homedogswin.sort_values(by = \"dogscore\", ascending = False)[homedogswin.dogscore >= benchmark]\n",
    "high_dog_away = awaydogswin.sort_values(by = \"dogscore\", ascending = False)[awaydogswin.dogscore >= benchmark]"
   ]
  },
  {
   "cell_type": "code",
   "execution_count": 58,
   "metadata": {},
   "outputs": [
    {
     "data": {
      "text/plain": [
       "Int64Index([  9748,   8548,   8573,   8586,   8295,   8650,   6391,  10229,\n",
       "              8560,   9875,   8636,   8203,   8668,   9873, 274581,   9905,\n",
       "              9790,   8398,   8635,   9925,   8593,   8262,   8640],\n",
       "           dtype='int64')"
      ]
     },
     "execution_count": 58,
     "metadata": {},
     "output_type": "execute_result"
    }
   ],
   "source": [
    "team_names_home = high_dog_home.index\n",
    "team_names_away = high_dog_away.index\n",
    "team_names = team_names_home.append(team_names_away).drop_duplicates()\n",
    "team_names"
   ]
  },
  {
   "cell_type": "markdown",
   "metadata": {},
   "source": [
    "# Analyse attributes of these teams"
   ]
  },
  {
   "cell_type": "code",
   "execution_count": 170,
   "metadata": {
    "scrolled": false
   },
   "outputs": [
    {
     "name": "stdout",
     "output_type": "stream",
     "text": [
      "<class 'pandas.core.frame.DataFrame'>\n",
      "Int64Index: 118 entries, 33 to 1318\n",
      "Data columns (total 24 columns):\n",
      "team_id                           118 non-null int64\n",
      "date                              118 non-null object\n",
      "buildUpPlaySpeed                  118 non-null int64\n",
      "buildUpPlaySpeedClass             118 non-null int64\n",
      "buildUpPlayDribbling              42 non-null float64\n",
      "buildUpPlayDribblingClass         118 non-null int64\n",
      "buildUpPlayPassing                118 non-null int64\n",
      "buildUpPlayPassingClass           118 non-null int64\n",
      "buildUpPlayPositioningClass       118 non-null int64\n",
      "chanceCreationPassing             118 non-null int64\n",
      "chanceCreationPassingClass        118 non-null int64\n",
      "chanceCreationCrossing            118 non-null int64\n",
      "chanceCreationCrossingClass       118 non-null int64\n",
      "chanceCreationShooting            118 non-null int64\n",
      "chanceCreationShootingClass       118 non-null int64\n",
      "chanceCreationPositioningClass    118 non-null int64\n",
      "defencePressure                   118 non-null int64\n",
      "defencePressureClass              118 non-null int64\n",
      "defenceAggression                 118 non-null int64\n",
      "defenceAggressionClass            118 non-null int64\n",
      "defenceTeamWidth                  118 non-null int64\n",
      "defenceTeamWidthClass             118 non-null int64\n",
      "defenceDefenderLineClass          118 non-null int64\n",
      "is_high_dog                       118 non-null bool\n",
      "dtypes: bool(1), float64(1), int64(21), object(1)\n",
      "memory usage: 22.2+ KB\n"
     ]
    }
   ],
   "source": [
    "attributes = team_attributes[team_attributes.team_id.isin(team_names)]\n",
    "attributes.info()"
   ]
  },
  {
   "cell_type": "code",
   "execution_count": 171,
   "metadata": {},
   "outputs": [],
   "source": [
    "team_attributes[\"is_high_dog\"]= attributes.team_id.isin(team_names)"
   ]
  },
  {
   "cell_type": "code",
   "execution_count": 172,
   "metadata": {},
   "outputs": [],
   "source": [
    "num_col = ['buildUpPlaySpeed', \n",
    "       'buildUpPlayPassing', 'chanceCreationPassing', 'chanceCreationCrossing',\n",
    "       'chanceCreationShooting', 'defencePressure', 'defenceAggression',\n",
    "       'defenceTeamWidth']\n",
    "cat_col = ['buildUpPlaySpeedClass','buildUpPlayDribblingClass','buildUpPlayPassingClass','buildUpPlayPositioningClass','chanceCreationPassingClass',\n",
    "           'chanceCreationCrossingClass', 'chanceCreationShootingClass' ,'chanceCreationPositioningClass', 'defencePressureClass', \n",
    "           'defenceAggressionClass', 'defenceTeamWidthClass', 'defenceDefenderLineClass']"
   ]
  },
  {
   "cell_type": "markdown",
   "metadata": {},
   "source": [
    "## Numerical features"
   ]
  },
  {
   "cell_type": "code",
   "execution_count": 173,
   "metadata": {
    "scrolled": true
   },
   "outputs": [
    {
     "data": {
      "text/html": [
       "<div>\n",
       "<style scoped>\n",
       "    .dataframe tbody tr th:only-of-type {\n",
       "        vertical-align: middle;\n",
       "    }\n",
       "\n",
       "    .dataframe tbody tr th {\n",
       "        vertical-align: top;\n",
       "    }\n",
       "\n",
       "    .dataframe thead th {\n",
       "        text-align: right;\n",
       "    }\n",
       "</style>\n",
       "<table border=\"1\" class=\"dataframe\">\n",
       "  <thead>\n",
       "    <tr style=\"text-align: right;\">\n",
       "      <th></th>\n",
       "      <th>attributes</th>\n",
       "      <th>high_dog_mean</th>\n",
       "      <th>all_mean</th>\n",
       "    </tr>\n",
       "  </thead>\n",
       "  <tbody>\n",
       "    <tr>\n",
       "      <td>0</td>\n",
       "      <td>buildUpPlaySpeed</td>\n",
       "      <td>53.093220</td>\n",
       "      <td>52.462277</td>\n",
       "    </tr>\n",
       "    <tr>\n",
       "      <td>1</td>\n",
       "      <td>buildUpPlayPassing</td>\n",
       "      <td>47.118644</td>\n",
       "      <td>48.490398</td>\n",
       "    </tr>\n",
       "    <tr>\n",
       "      <td>2</td>\n",
       "      <td>chanceCreationPassing</td>\n",
       "      <td>52.864407</td>\n",
       "      <td>52.165295</td>\n",
       "    </tr>\n",
       "    <tr>\n",
       "      <td>3</td>\n",
       "      <td>chanceCreationCrossing</td>\n",
       "      <td>55.813559</td>\n",
       "      <td>53.731824</td>\n",
       "    </tr>\n",
       "    <tr>\n",
       "      <td>4</td>\n",
       "      <td>chanceCreationShooting</td>\n",
       "      <td>56.694915</td>\n",
       "      <td>53.969136</td>\n",
       "    </tr>\n",
       "    <tr>\n",
       "      <td>5</td>\n",
       "      <td>defencePressure</td>\n",
       "      <td>49.610169</td>\n",
       "      <td>46.017147</td>\n",
       "    </tr>\n",
       "    <tr>\n",
       "      <td>6</td>\n",
       "      <td>defenceAggression</td>\n",
       "      <td>52.135593</td>\n",
       "      <td>49.251029</td>\n",
       "    </tr>\n",
       "    <tr>\n",
       "      <td>7</td>\n",
       "      <td>defenceTeamWidth</td>\n",
       "      <td>53.483051</td>\n",
       "      <td>52.185871</td>\n",
       "    </tr>\n",
       "  </tbody>\n",
       "</table>\n",
       "</div>"
      ],
      "text/plain": [
       "               attributes  high_dog_mean   all_mean\n",
       "0        buildUpPlaySpeed      53.093220  52.462277\n",
       "1      buildUpPlayPassing      47.118644  48.490398\n",
       "2   chanceCreationPassing      52.864407  52.165295\n",
       "3  chanceCreationCrossing      55.813559  53.731824\n",
       "4  chanceCreationShooting      56.694915  53.969136\n",
       "5         defencePressure      49.610169  46.017147\n",
       "6       defenceAggression      52.135593  49.251029\n",
       "7        defenceTeamWidth      53.483051  52.185871"
      ]
     },
     "execution_count": 173,
     "metadata": {},
     "output_type": "execute_result"
    }
   ],
   "source": [
    "high_num_mean = []\n",
    "all_num_mean = []\n",
    "for i in num_col:\n",
    "    high_num_mean.append(attributes[i].mean())\n",
    "    all_num_mean.append(team_attributes[i].mean())\n",
    "num_mean = pd.DataFrame(num_col, columns = [\"attributes\"])\n",
    "num_mean[\"high_dog_mean\"] = high_num_mean\n",
    "num_mean[\"all_mean\"] = all_num_mean\n",
    "num_mean"
   ]
  },
  {
   "cell_type": "markdown",
   "metadata": {},
   "source": [
    "Finding: Dogs are likely to have higher buildUpPlayDribbling, chanceCreationCrossing, chanceCreationShooting, defencePressure, defenceAggression, defenceTeamWidth \n",
    "Can possibly undertake hypothesis testing on these."
   ]
  },
  {
   "cell_type": "code",
   "execution_count": 187,
   "metadata": {},
   "outputs": [],
   "source": [
    "num_features_all = pd.melt(team_attributes[num_col])\n",
    "num_features_highdogs = pd.melt(attributes[num_col])\n",
    "df = pd.concat([num_features_all, num_features_highdogs],keys = [\"all\",\"high-dogs\"])\n",
    "df = df.reset_index()\n",
    "df = df.drop([\"level_1\"], axis =1)\n",
    "df = df.rename({\"level_0\": \"category\"}, axis =1)"
   ]
  },
  {
   "cell_type": "code",
   "execution_count": 188,
   "metadata": {},
   "outputs": [
    {
     "data": {
      "image/png": "[encoded data removed]",
      "text/plain": [
       "<Figure size 1440x2160 with 1 Axes>"
      ]
     },
     "metadata": {
      "needs_background": "light"
     },
     "output_type": "display_data"
    }
   ],
   "source": [
    "# Initialize the figure with a logarithmic x axis\n",
    "f, ax = plt.subplots(figsize=(20, 30))\n",
    "\n",
    "# Plot the orbital period with horizontal boxes\n",
    "sns.boxplot(y=\"variable\", x=\"value\", hue = \"category\", data = df,\n",
    "            whis=[0, 100], width=.6, palette=\"vlag\")\n",
    "\n",
    "# Add in points to show each observation\n",
    "# sns.stripplot(x=\"variable\", y=\"value\", data=df,\n",
    "#              size=4, color=\".3\", linewidth=0)\n",
    "\n",
    "# Tweak the visual presentation\n",
    "ax.xaxis.grid(True)\n",
    "ax.set(ylabel=\"\")\n",
    "sns.despine(trim=True, left=True)"
   ]
  },
  {
   "cell_type": "markdown",
   "metadata": {},
   "source": [
    "## Categorical features"
   ]
  },
  {
   "cell_type": "code",
   "execution_count": 124,
   "metadata": {},
   "outputs": [
    {
     "name": "stderr",
     "output_type": "stream",
     "text": [
      "D:\\softwares\\anaconda\\envs\\data science\\lib\\site-packages\\ipykernel_launcher.py:6: SettingWithCopyWarning: \n",
      "A value is trying to be set on a copy of a slice from a DataFrame.\n",
      "Try using .loc[row_indexer,col_indexer] = value instead\n",
      "\n",
      "See the caveats in the documentation: http://pandas.pydata.org/pandas-docs/stable/user_guide/indexing.html#returning-a-view-versus-a-copy\n",
      "  \n"
     ]
    },
    {
     "data": {
      "text/html": [
       "<div>\n",
       "<style scoped>\n",
       "    .dataframe tbody tr th:only-of-type {\n",
       "        vertical-align: middle;\n",
       "    }\n",
       "\n",
       "    .dataframe tbody tr th {\n",
       "        vertical-align: top;\n",
       "    }\n",
       "\n",
       "    .dataframe thead th {\n",
       "        text-align: right;\n",
       "    }\n",
       "</style>\n",
       "<table border=\"1\" class=\"dataframe\">\n",
       "  <thead>\n",
       "    <tr style=\"text-align: right;\">\n",
       "      <th></th>\n",
       "      <th>attributes</th>\n",
       "      <th>high_dog_mean</th>\n",
       "      <th>all_mean</th>\n",
       "    </tr>\n",
       "  </thead>\n",
       "  <tbody>\n",
       "    <tr>\n",
       "      <td>0</td>\n",
       "      <td>buildUpPlaySpeedClass</td>\n",
       "      <td>0.245763</td>\n",
       "      <td>0.257888</td>\n",
       "    </tr>\n",
       "    <tr>\n",
       "      <td>1</td>\n",
       "      <td>buildUpPlayDribblingClass</td>\n",
       "      <td>0.686441</td>\n",
       "      <td>0.608368</td>\n",
       "    </tr>\n",
       "    <tr>\n",
       "      <td>2</td>\n",
       "      <td>buildUpPlayPassingClass</td>\n",
       "      <td>1.067797</td>\n",
       "      <td>1.023320</td>\n",
       "    </tr>\n",
       "    <tr>\n",
       "      <td>3</td>\n",
       "      <td>buildUpPlayPositioningClass</td>\n",
       "      <td>0.915254</td>\n",
       "      <td>0.950617</td>\n",
       "    </tr>\n",
       "    <tr>\n",
       "      <td>4</td>\n",
       "      <td>chanceCreationPassingClass</td>\n",
       "      <td>0.211864</td>\n",
       "      <td>0.194102</td>\n",
       "    </tr>\n",
       "    <tr>\n",
       "      <td>5</td>\n",
       "      <td>chanceCreationCrossingClass</td>\n",
       "      <td>1.788136</td>\n",
       "      <td>1.783951</td>\n",
       "    </tr>\n",
       "    <tr>\n",
       "      <td>6</td>\n",
       "      <td>chanceCreationShootingClass</td>\n",
       "      <td>1.745763</td>\n",
       "      <td>1.814129</td>\n",
       "    </tr>\n",
       "    <tr>\n",
       "      <td>7</td>\n",
       "      <td>chanceCreationPositioningClass</td>\n",
       "      <td>0.915254</td>\n",
       "      <td>0.897805</td>\n",
       "    </tr>\n",
       "    <tr>\n",
       "      <td>8</td>\n",
       "      <td>defencePressureClass</td>\n",
       "      <td>1.805085</td>\n",
       "      <td>1.746914</td>\n",
       "    </tr>\n",
       "    <tr>\n",
       "      <td>9</td>\n",
       "      <td>defenceAggressionClass</td>\n",
       "      <td>1.830508</td>\n",
       "      <td>1.815501</td>\n",
       "    </tr>\n",
       "    <tr>\n",
       "      <td>10</td>\n",
       "      <td>defenceTeamWidthClass</td>\n",
       "      <td>1.050847</td>\n",
       "      <td>1.034294</td>\n",
       "    </tr>\n",
       "    <tr>\n",
       "      <td>11</td>\n",
       "      <td>defenceDefenderLineClass</td>\n",
       "      <td>0.050847</td>\n",
       "      <td>0.065844</td>\n",
       "    </tr>\n",
       "  </tbody>\n",
       "</table>\n",
       "</div>"
      ],
      "text/plain": [
       "                        attributes  high_dog_mean  all_mean\n",
       "0            buildUpPlaySpeedClass       0.245763  0.257888\n",
       "1        buildUpPlayDribblingClass       0.686441  0.608368\n",
       "2          buildUpPlayPassingClass       1.067797  1.023320\n",
       "3      buildUpPlayPositioningClass       0.915254  0.950617\n",
       "4       chanceCreationPassingClass       0.211864  0.194102\n",
       "5      chanceCreationCrossingClass       1.788136  1.783951\n",
       "6      chanceCreationShootingClass       1.745763  1.814129\n",
       "7   chanceCreationPositioningClass       0.915254  0.897805\n",
       "8             defencePressureClass       1.805085  1.746914\n",
       "9           defenceAggressionClass       1.830508  1.815501\n",
       "10           defenceTeamWidthClass       1.050847  1.034294\n",
       "11        defenceDefenderLineClass       0.050847  0.065844"
      ]
     },
     "execution_count": 124,
     "metadata": {},
     "output_type": "execute_result"
    }
   ],
   "source": [
    "labelencoder = LabelEncoder()\n",
    "high_cat_mean = []\n",
    "all_cat_mean = []\n",
    "\n",
    "for i in cat_col:\n",
    "    attributes[i]= labelencoder.fit_transform(attributes[i])\n",
    "    team_attributes[i]= labelencoder.fit_transform(team_attributes[i])\n",
    "    mean1 = attributes[i].mean()\n",
    "    mean2 = team_attributes[i].mean()\n",
    "    high_cat_mean.append(mean1)\n",
    "    all_cat_mean.append(mean2)\n",
    "\n",
    "cat_mean = pd.DataFrame(cat_col, columns = [\"attributes\"])\n",
    "cat_mean[\"high_dog_mean\"] = high_cat_mean\n",
    "cat_mean[\"all_mean\"] = all_cat_mean\n",
    "cat_mean"
   ]
  },
  {
   "cell_type": "code",
   "execution_count": 191,
   "metadata": {},
   "outputs": [],
   "source": [
    "cat_features_all = team_attributes[cat_col]\n",
    "cat_features_highdogs = attributes[cat_col]\n",
    "df = pd.concat([pd.melt(cat_features_all),pd.melt(cat_features_highdogs)],keys = [\"all\",\"high-dogs\"])\n",
    "df = df.reset_index()\n",
    "df = df.drop([\"level_1\"], axis =1)\n",
    "df = df.rename({\"level_0\": \"category\"}, axis =1)"
   ]
  },
  {
   "cell_type": "code",
   "execution_count": 195,
   "metadata": {},
   "outputs": [
    {
     "data": {
      "image/png": "[encoded data removed]",
      "text/plain": [
       "<Figure size 2160x1440 with 1 Axes>"
      ]
     },
     "metadata": {
      "needs_background": "light"
     },
     "output_type": "display_data"
    }
   ],
   "source": [
    "#sns.set_theme(style=\"ticks\")\n",
    "\n",
    "# Initialize the figure with a logarithmic x axis\n",
    "f, ax = plt.subplots(figsize=(30, 20))\n",
    "#ax.set_xscale(\"log\")\n",
    "\n",
    "# Plot the orbital period with horizontal boxes\n",
    "sns.barplot(y=\"variable\", x=\"value\", hue = \"category\", data = df)\n",
    "\n",
    "# Tweak the visual presentation\n",
    "ax.xaxis.grid(True)\n",
    "ax.set(ylabel=\"\")\n",
    "sns.despine(trim=True, left=True)"
   ]
  },
  {
   "cell_type": "code",
   "execution_count": null,
   "metadata": {},
   "outputs": [],
   "source": []
  }
 ],
 "metadata": {
  "kernelspec": {
   "display_name": "Python [conda env:data science]",
   "language": "python",
   "name": "conda-env-data_science-py"
  },
  "language_info": {
   "codemirror_mode": {
    "name": "ipython",
    "version": 3
   },
   "file_extension": ".py",
   "mimetype": "text/x-python",
   "name": "python",
   "nbconvert_exporter": "python",
   "pygments_lexer": "ipython3",
   "version": "3.6.9"
  },
  "toc": {
   "base_numbering": 1,
   "nav_menu": {},
   "number_sections": true,
   "sideBar": true,
   "skip_h1_title": false,
   "title_cell": "Table of Contents",
   "title_sidebar": "Contents",
   "toc_cell": false,
   "toc_position": {},
   "toc_section_display": true,
   "toc_window_display": false
  }
 },
 "nbformat": 4,
 "nbformat_minor": 2
}
