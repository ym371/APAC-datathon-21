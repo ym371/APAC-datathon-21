{
 "cells": [
  {
   "cell_type": "code",
   "execution_count": null,
   "id": "lovely-caution",
   "metadata": {},
   "outputs": [],
   "source": [
    "library(dplyr);library(ggplot2);library(corrplot)\n",
    "match <- read.csv(\"match.csv\", header=T)\n",
    "match1 <- match%>%mutate(goalmargin = home_team_goal-away_team_goal)%>%\n",
    "  mutate(outcome = ifelse(goalmargin==0, 0, goalmargin/abs(goalmargin)))\n",
    "matchhome <- select(match1, seq(33,62,3))\n",
    "matchdraw <- select(match1, seq(34,62,3))\n",
    "matchaway <- select(match1, seq(35,62,3))\n",
    "avghome <- transmute(matchhome, homeodds=round(rowMeans(matchhome[,-11,-12],na.rm=T),digits=3))\n",
    "avgdraw <- transmute(matchdraw, drawodds=round(rowMeans(matchdraw[,-11,-12],na.rm=T),digits=3))\n",
    "avgaway <- transmute(matchaway, awayodds=round(rowMeans(matchaway[,-11,-12],na.rm=T),digits=3))\n",
    "match1 <- bind_cols(match1,avghome,avgdraw,avgaway)\n",
    "match1 <- select(match1,-seq(33,62),-c(9,10))\n",
    "# every match\n",
    "allmatches <- select(match1,seq(6,8),seq(31,35))\n",
    "allmatches <- allmatches[complete.cases(allmatches), ]\n",
    "# every match that dog wins\n",
    "dogwins <- allmatches%>%filter(outcome==1 & homeodds>=3.5 | outcome==-1 & awayodds>=3.5)"
   ]
  },
  {
   "cell_type": "markdown",
   "id": "noble-muslim",
   "metadata": {},
   "source": [
    "## visualise corr btw goalmargin and odds"
   ]
  },
  {
   "cell_type": "code",
   "execution_count": 2,
   "id": "appropriate-dominican",
   "metadata": {},
   "outputs": [
    {
     "data": {
      "image/png": "[encoded data removed]",
      "text/plain": [
       "Plot with title \"when dog wins\""
      ]
     },
     "metadata": {},
     "output_type": "display_data"
    }
   ],
   "source": [
    "library(repr); options(repr.plot.width=8, repr.plot.height=4); par(mfrow=c(1,2))\n",
    "corrplot(cor(allmatches[,c(\"goalmargin\",\"homeodds\",\"awayodds\")]),title=\"ALL matches\",type=\"upper\",method=\"color\",addCoef.col = \"black\",number.cex = 1)\n",
    "corrplot(cor(dogwins[,c(\"goalmargin\",\"homeodds\",\"awayodds\")]),title=\"when dog wins\",type=\"upper\",method=\"color\",addCoef.col = \"black\",number.cex = 1)"
   ]
  },
  {
   "cell_type": "markdown",
   "id": "formed-female",
   "metadata": {},
   "source": [
    "## profit if bet ON dogs"
   ]
  },
  {
   "cell_type": "code",
   "execution_count": 6,
   "id": "internal-pressing",
   "metadata": {},
   "outputs": [
    {
     "name": "stderr",
     "output_type": "stream",
     "text": [
      "Joining, by = \"home_team_id\"\n",
      "Joining, by = \"away_team_id\"\n",
      "Joining, by = \"dog\"\n"
     ]
    },
    {
     "data": {
      "text/html": [
       "<table>\n",
       "<thead><tr><th scope=col>dog</th><th scope=col>homewins</th><th scope=col>homerevenue</th><th scope=col>homegames</th><th scope=col>homerev_multiple</th><th scope=col>awaywins</th><th scope=col>awayrevenue</th><th scope=col>awaygames</th><th scope=col>awayrev_multiple</th></tr></thead>\n",
       "<tbody>\n",
       "\t<tr><td>1773     </td><td>3        </td><td>15.591   </td><td>11       </td><td>1.4173636</td><td> 5       </td><td>21.555   </td><td>37       </td><td>0.5825676</td></tr>\n",
       "\t<tr><td>2033     </td><td>1        </td><td> 5.308   </td><td>24       </td><td>0.2211667</td><td> 7       </td><td>37.513   </td><td>53       </td><td>0.7077925</td></tr>\n",
       "\t<tr><td>4087     </td><td>2        </td><td>13.167   </td><td>14       </td><td>0.9405000</td><td>12       </td><td>56.523   </td><td>61       </td><td>0.9266066</td></tr>\n",
       "\t<tr><td>6403     </td><td>5        </td><td>26.929   </td><td>29       </td><td>0.9285862</td><td> 8       </td><td>39.429   </td><td>53       </td><td>0.7439434</td></tr>\n",
       "\t<tr><td>6413     </td><td>4        </td><td>16.870   </td><td>13       </td><td>1.2976923</td><td> 4       </td><td>27.589   </td><td>38       </td><td>0.7260263</td></tr>\n",
       "\t<tr><td>6433     </td><td>1        </td><td> 6.211   </td><td>10       </td><td>0.6211000</td><td> 6       </td><td>37.106   </td><td>30       </td><td>1.2368667</td></tr>\n",
       "</tbody>\n",
       "</table>\n"
      ],
      "text/latex": [
       "\\begin{tabular}{r|lllllllll}\n",
       " dog & homewins & homerevenue & homegames & homerev\\_multiple & awaywins & awayrevenue & awaygames & awayrev\\_multiple\\\\\n",
       "\\hline\n",
       "\t 1773      & 3         & 15.591    & 11        & 1.4173636 &  5        & 21.555    & 37        & 0.5825676\\\\\n",
       "\t 2033      & 1         &  5.308    & 24        & 0.2211667 &  7        & 37.513    & 53        & 0.7077925\\\\\n",
       "\t 4087      & 2         & 13.167    & 14        & 0.9405000 & 12        & 56.523    & 61        & 0.9266066\\\\\n",
       "\t 6403      & 5         & 26.929    & 29        & 0.9285862 &  8        & 39.429    & 53        & 0.7439434\\\\\n",
       "\t 6413      & 4         & 16.870    & 13        & 1.2976923 &  4        & 27.589    & 38        & 0.7260263\\\\\n",
       "\t 6433      & 1         &  6.211    & 10        & 0.6211000 &  6        & 37.106    & 30        & 1.2368667\\\\\n",
       "\\end{tabular}\n"
      ],
      "text/markdown": [
       "\n",
       "| dog | homewins | homerevenue | homegames | homerev_multiple | awaywins | awayrevenue | awaygames | awayrev_multiple |\n",
       "|---|---|---|---|---|---|---|---|---|\n",
       "| 1773      | 3         | 15.591    | 11        | 1.4173636 |  5        | 21.555    | 37        | 0.5825676 |\n",
       "| 2033      | 1         |  5.308    | 24        | 0.2211667 |  7        | 37.513    | 53        | 0.7077925 |\n",
       "| 4087      | 2         | 13.167    | 14        | 0.9405000 | 12        | 56.523    | 61        | 0.9266066 |\n",
       "| 6403      | 5         | 26.929    | 29        | 0.9285862 |  8        | 39.429    | 53        | 0.7439434 |\n",
       "| 6413      | 4         | 16.870    | 13        | 1.2976923 |  4        | 27.589    | 38        | 0.7260263 |\n",
       "| 6433      | 1         |  6.211    | 10        | 0.6211000 |  6        | 37.106    | 30        | 1.2368667 |\n",
       "\n"
      ],
      "text/plain": [
       "  dog  homewins homerevenue homegames homerev_multiple awaywins awayrevenue\n",
       "1 1773 3        15.591      11        1.4173636         5       21.555     \n",
       "2 2033 1         5.308      24        0.2211667         7       37.513     \n",
       "3 4087 2        13.167      14        0.9405000        12       56.523     \n",
       "4 6403 5        26.929      29        0.9285862         8       39.429     \n",
       "5 6413 4        16.870      13        1.2976923         4       27.589     \n",
       "6 6433 1         6.211      10        0.6211000         6       37.106     \n",
       "  awaygames awayrev_multiple\n",
       "1 37        0.5825676       \n",
       "2 53        0.7077925       \n",
       "3 61        0.9266066       \n",
       "4 53        0.7439434       \n",
       "5 38        0.7260263       \n",
       "6 30        1.2368667       "
      ]
     },
     "metadata": {},
     "output_type": "display_data"
    }
   ],
   "source": [
    "homedogs <- allmatches%>%filter(homeodds>=3.5)%>%group_by(home_team_id)%>%summarise(homegames=n())\n",
    "awaydogs <- allmatches%>%filter(awayodds>=3.5)%>%group_by(away_team_id)%>%summarise(awaygames=n())\n",
    "homedata <- dogwins%>%filter(outcome==1)%>%group_by(home_team_id)%>%\n",
    "  summarise(homewins=n(),homerevenue=sum(homeodds))%>%left_join(homedogs)%>%filter(!is.na(homewins))%>%\n",
    "  mutate(homerev_multiple = homerevenue/homegames)%>%rename(dog=home_team_id)\n",
    "awaydata <- dogwins%>%filter(outcome==-1)%>%group_by(away_team_id)%>%\n",
    "  summarise(awaywins=n(),awayrevenue=sum(awayodds))%>%left_join(awaydogs)%>%filter(!is.na(awaywins))%>%\n",
    "  mutate(awayrev_multiple = awayrevenue/awaygames)%>%rename(dog=away_team_id)\n",
    "dogdata <- left_join(homedata,awaydata)\n",
    "dogdata <- dogdata%>%filter(homegames>=10,awaygames>=10)\n",
    "head(dogdata)\n",
    "#write.csv(dogdata,'dogdata.csv',row.names=F)"
   ]
  },
  {
   "cell_type": "markdown",
   "id": "rubber-recognition",
   "metadata": {},
   "source": [
    "homerev_multiple is how many times the return is over total bet amt, if bet that dog wins at home"
   ]
  },
  {
   "cell_type": "markdown",
   "id": "embedded-redhead",
   "metadata": {},
   "source": [
    "## profit if bet AGAINST favourites"
   ]
  },
  {
   "cell_type": "code",
   "execution_count": 12,
   "id": "seven-international",
   "metadata": {
    "scrolled": true
   },
   "outputs": [
    {
     "name": "stderr",
     "output_type": "stream",
     "text": [
      "Joining, by = \"home_team_id\"\n",
      "Joining, by = \"away_team_id\"\n",
      "Joining, by = \"fav\"\n"
     ]
    },
    {
     "data": {
      "text/html": [
       "<table>\n",
       "<thead><tr><th scope=col>fav</th><th scope=col>homelosses</th><th scope=col>againsthomerevenue</th><th scope=col>homegames</th><th scope=col>againsthomerev_multiple</th><th scope=col>awaylosses</th><th scope=col>againstawayrevenue</th><th scope=col>awaygames</th><th scope=col>againstawayrev_multiple</th></tr></thead>\n",
       "<tbody>\n",
       "\t<tr><td>8178     </td><td>16       </td><td> 95.833  </td><td>111      </td><td>0.8633604</td><td>12       </td><td> 52.681  </td><td> 41      </td><td>1.2849024</td></tr>\n",
       "\t<tr><td>8277     </td><td> 9       </td><td> 51.761  </td><td> 79      </td><td>0.6552025</td><td> 4       </td><td> 16.521  </td><td> 19      </td><td>0.8695263</td></tr>\n",
       "\t<tr><td>8302     </td><td>20       </td><td>115.714  </td><td>121      </td><td>0.9563140</td><td> 3       </td><td> 11.857  </td><td> 21      </td><td>0.5646190</td></tr>\n",
       "\t<tr><td>8315     </td><td>17       </td><td> 90.156  </td><td> 99      </td><td>0.9106667</td><td> 2       </td><td>  7.617  </td><td> 10      </td><td>0.7617000</td></tr>\n",
       "\t<tr><td>8342     </td><td>11       </td><td> 56.380  </td><td> 96      </td><td>0.5872917</td><td>10       </td><td> 44.385  </td><td> 46      </td><td>0.9648913</td></tr>\n",
       "\t<tr><td>8455     </td><td>15       </td><td>119.122  </td><td>139      </td><td>0.8569928</td><td>26       </td><td>133.591  </td><td>109      </td><td>1.2256055</td></tr>\n",
       "</tbody>\n",
       "</table>\n"
      ],
      "text/latex": [
       "\\begin{tabular}{r|lllllllll}\n",
       " fav & homelosses & againsthomerevenue & homegames & againsthomerev\\_multiple & awaylosses & againstawayrevenue & awaygames & againstawayrev\\_multiple\\\\\n",
       "\\hline\n",
       "\t 8178      & 16        &  95.833   & 111       & 0.8633604 & 12        &  52.681   &  41       & 1.2849024\\\\\n",
       "\t 8277      &  9        &  51.761   &  79       & 0.6552025 &  4        &  16.521   &  19       & 0.8695263\\\\\n",
       "\t 8302      & 20        & 115.714   & 121       & 0.9563140 &  3        &  11.857   &  21       & 0.5646190\\\\\n",
       "\t 8315      & 17        &  90.156   &  99       & 0.9106667 &  2        &   7.617   &  10       & 0.7617000\\\\\n",
       "\t 8342      & 11        &  56.380   &  96       & 0.5872917 & 10        &  44.385   &  46       & 0.9648913\\\\\n",
       "\t 8455      & 15        & 119.122   & 139       & 0.8569928 & 26        & 133.591   & 109       & 1.2256055\\\\\n",
       "\\end{tabular}\n"
      ],
      "text/markdown": [
       "\n",
       "| fav | homelosses | againsthomerevenue | homegames | againsthomerev_multiple | awaylosses | againstawayrevenue | awaygames | againstawayrev_multiple |\n",
       "|---|---|---|---|---|---|---|---|---|\n",
       "| 8178      | 16        |  95.833   | 111       | 0.8633604 | 12        |  52.681   |  41       | 1.2849024 |\n",
       "| 8277      |  9        |  51.761   |  79       | 0.6552025 |  4        |  16.521   |  19       | 0.8695263 |\n",
       "| 8302      | 20        | 115.714   | 121       | 0.9563140 |  3        |  11.857   |  21       | 0.5646190 |\n",
       "| 8315      | 17        |  90.156   |  99       | 0.9106667 |  2        |   7.617   |  10       | 0.7617000 |\n",
       "| 8342      | 11        |  56.380   |  96       | 0.5872917 | 10        |  44.385   |  46       | 0.9648913 |\n",
       "| 8455      | 15        | 119.122   | 139       | 0.8569928 | 26        | 133.591   | 109       | 1.2256055 |\n",
       "\n"
      ],
      "text/plain": [
       "  fav  homelosses againsthomerevenue homegames againsthomerev_multiple\n",
       "1 8178 16          95.833            111       0.8633604              \n",
       "2 8277  9          51.761             79       0.6552025              \n",
       "3 8302 20         115.714            121       0.9563140              \n",
       "4 8315 17          90.156             99       0.9106667              \n",
       "5 8342 11          56.380             96       0.5872917              \n",
       "6 8455 15         119.122            139       0.8569928              \n",
       "  awaylosses againstawayrevenue awaygames againstawayrev_multiple\n",
       "1 12          52.681             41       1.2849024              \n",
       "2  4          16.521             19       0.8695263              \n",
       "3  3          11.857             21       0.5646190              \n",
       "4  2           7.617             10       0.7617000              \n",
       "5 10          44.385             46       0.9648913              \n",
       "6 26         133.591            109       1.2256055              "
      ]
     },
     "metadata": {},
     "output_type": "display_data"
    }
   ],
   "source": [
    "homefav <- allmatches%>%filter(awayodds>=3.5)%>%group_by(home_team_id)%>%summarise(homegames=n())\n",
    "awayfav <- allmatches%>%filter(homeodds>=3.5)%>%group_by(away_team_id)%>%summarise(awaygames=n())\n",
    "homedata1 <- allmatches%>%filter(awayodds>=3.5,outcome==-1)%>%group_by(home_team_id)%>%\n",
    "  summarise(homelosses=n(),againsthomerevenue=sum(awayodds))%>%left_join(homefav)%>%filter(!is.na(homelosses))%>%\n",
    "  mutate(againsthomerev_multiple = againsthomerevenue/homegames)%>%rename(fav=home_team_id)\n",
    "awaydata1 <- allmatches%>%filter(homeodds>=3.5,outcome==1)%>%group_by(away_team_id)%>%\n",
    "  summarise(awaylosses=n(),againstawayrevenue=sum(homeodds))%>%left_join(awayfav)%>%filter(!is.na(awaylosses))%>%\n",
    "  mutate(againstawayrev_multiple = againstawayrevenue/awaygames)%>%rename(fav=away_team_id)\n",
    "favdata <- left_join(homedata1,awaydata1)\n",
    "favdata <- favdata%>%filter(homegames>=10,awaygames>=10)\n",
    "head(favdata)\n",
    "#write.csv(favdata,'favdata.csv',row.names=F)"
   ]
  },
  {
   "cell_type": "markdown",
   "id": "swedish-thumbnail",
   "metadata": {},
   "source": [
    "againsthomerev_multiple is how many times the return is over total bet amt, if bet against the fav (bet that fav loses at home)"
   ]
  },
  {
   "cell_type": "markdown",
   "id": "favorite-establishment",
   "metadata": {},
   "source": [
    "## identify feasible gooddogs and badfavs w multiple>1 (profit positive)"
   ]
  },
  {
   "cell_type": "code",
   "execution_count": 20,
   "id": "wired-gender",
   "metadata": {},
   "outputs": [
    {
     "data": {
      "text/html": [
       "<table>\n",
       "<thead><tr><th scope=col>dog</th><th scope=col>homewins</th><th scope=col>homerevenue</th><th scope=col>homegames</th><th scope=col>homerev_multiple</th><th scope=col>awaywins</th><th scope=col>awayrevenue</th><th scope=col>awaygames</th><th scope=col>awayrev_multiple</th></tr></thead>\n",
       "<tbody>\n",
       "\t<tr><td> 8560    </td><td>7        </td><td>52.106   </td><td>14       </td><td>3.721857 </td><td>14       </td><td>68.127   </td><td> 60      </td><td>1.1354500</td></tr>\n",
       "\t<tr><td> 8191    </td><td>4        </td><td>28.728   </td><td>13       </td><td>2.209846 </td><td> 4       </td><td>18.173   </td><td> 37      </td><td>0.4911622</td></tr>\n",
       "\t<tr><td> 8581    </td><td>6        </td><td>55.205   </td><td>25       </td><td>2.208200 </td><td>20       </td><td>95.955   </td><td>105      </td><td>0.9138571</td></tr>\n",
       "\t<tr><td> 9790    </td><td>6        </td><td>32.724   </td><td>15       </td><td>2.181600 </td><td>10       </td><td>52.765   </td><td> 59      </td><td>0.8943220</td></tr>\n",
       "\t<tr><td>10281    </td><td>4        </td><td>25.312   </td><td>12       </td><td>2.109333 </td><td> 9       </td><td>43.879   </td><td> 61      </td><td>0.7193279</td></tr>\n",
       "\t<tr><td> 9905    </td><td>7        </td><td>35.339   </td><td>17       </td><td>2.078765 </td><td>15       </td><td>86.629   </td><td> 58      </td><td>1.4936034</td></tr>\n",
       "</tbody>\n",
       "</table>\n"
      ],
      "text/latex": [
       "\\begin{tabular}{r|lllllllll}\n",
       " dog & homewins & homerevenue & homegames & homerev\\_multiple & awaywins & awayrevenue & awaygames & awayrev\\_multiple\\\\\n",
       "\\hline\n",
       "\t  8560     & 7         & 52.106    & 14        & 3.721857  & 14        & 68.127    &  60       & 1.1354500\\\\\n",
       "\t  8191     & 4         & 28.728    & 13        & 2.209846  &  4        & 18.173    &  37       & 0.4911622\\\\\n",
       "\t  8581     & 6         & 55.205    & 25        & 2.208200  & 20        & 95.955    & 105       & 0.9138571\\\\\n",
       "\t  9790     & 6         & 32.724    & 15        & 2.181600  & 10        & 52.765    &  59       & 0.8943220\\\\\n",
       "\t 10281     & 4         & 25.312    & 12        & 2.109333  &  9        & 43.879    &  61       & 0.7193279\\\\\n",
       "\t  9905     & 7         & 35.339    & 17        & 2.078765  & 15        & 86.629    &  58       & 1.4936034\\\\\n",
       "\\end{tabular}\n"
      ],
      "text/markdown": [
       "\n",
       "| dog | homewins | homerevenue | homegames | homerev_multiple | awaywins | awayrevenue | awaygames | awayrev_multiple |\n",
       "|---|---|---|---|---|---|---|---|---|\n",
       "|  8560     | 7         | 52.106    | 14        | 3.721857  | 14        | 68.127    |  60       | 1.1354500 |\n",
       "|  8191     | 4         | 28.728    | 13        | 2.209846  |  4        | 18.173    |  37       | 0.4911622 |\n",
       "|  8581     | 6         | 55.205    | 25        | 2.208200  | 20        | 95.955    | 105       | 0.9138571 |\n",
       "|  9790     | 6         | 32.724    | 15        | 2.181600  | 10        | 52.765    |  59       | 0.8943220 |\n",
       "| 10281     | 4         | 25.312    | 12        | 2.109333  |  9        | 43.879    |  61       | 0.7193279 |\n",
       "|  9905     | 7         | 35.339    | 17        | 2.078765  | 15        | 86.629    |  58       | 1.4936034 |\n",
       "\n"
      ],
      "text/plain": [
       "  dog   homewins homerevenue homegames homerev_multiple awaywins awayrevenue\n",
       "1  8560 7        52.106      14        3.721857         14       68.127     \n",
       "2  8191 4        28.728      13        2.209846          4       18.173     \n",
       "3  8581 6        55.205      25        2.208200         20       95.955     \n",
       "4  9790 6        32.724      15        2.181600         10       52.765     \n",
       "5 10281 4        25.312      12        2.109333          9       43.879     \n",
       "6  9905 7        35.339      17        2.078765         15       86.629     \n",
       "  awaygames awayrev_multiple\n",
       "1  60       1.1354500       \n",
       "2  37       0.4911622       \n",
       "3 105       0.9138571       \n",
       "4  59       0.8943220       \n",
       "5  61       0.7193279       \n",
       "6  58       1.4936034       "
      ]
     },
     "metadata": {},
     "output_type": "display_data"
    },
    {
     "data": {
      "text/html": [
       "<table>\n",
       "<thead><tr><th scope=col>dog</th><th scope=col>homewins</th><th scope=col>homerevenue</th><th scope=col>homegames</th><th scope=col>homerev_multiple</th><th scope=col>awaywins</th><th scope=col>awayrevenue</th><th scope=col>awaygames</th><th scope=col>awayrev_multiple</th></tr></thead>\n",
       "<tbody>\n",
       "\t<tr><td>10267   </td><td>1       </td><td> 5.607  </td><td>15      </td><td>0.373800</td><td> 5      </td><td>50.078  </td><td>30      </td><td>1.669267</td></tr>\n",
       "\t<tr><td> 9905   </td><td>7       </td><td>35.339  </td><td>17      </td><td>2.078765</td><td>15      </td><td>86.629  </td><td>58      </td><td>1.493603</td></tr>\n",
       "\t<tr><td> 9910   </td><td>3       </td><td>16.290  </td><td>11      </td><td>1.480909</td><td> 9      </td><td>57.373  </td><td>39      </td><td>1.471103</td></tr>\n",
       "\t<tr><td> 8722   </td><td>6       </td><td>30.016  </td><td>22      </td><td>1.364364</td><td>18      </td><td>99.338  </td><td>68      </td><td>1.460853</td></tr>\n",
       "\t<tr><td>10003   </td><td>5       </td><td>22.043  </td><td>19      </td><td>1.160158</td><td>12      </td><td>76.184  </td><td>54      </td><td>1.410815</td></tr>\n",
       "\t<tr><td> 9826   </td><td>3       </td><td>18.259  </td><td>19      </td><td>0.961000</td><td> 9      </td><td>56.180  </td><td>40      </td><td>1.404500</td></tr>\n",
       "</tbody>\n",
       "</table>\n"
      ],
      "text/latex": [
       "\\begin{tabular}{r|lllllllll}\n",
       " dog & homewins & homerevenue & homegames & homerev\\_multiple & awaywins & awayrevenue & awaygames & awayrev\\_multiple\\\\\n",
       "\\hline\n",
       "\t 10267    & 1        &  5.607   & 15       & 0.373800 &  5       & 50.078   & 30       & 1.669267\\\\\n",
       "\t  9905    & 7        & 35.339   & 17       & 2.078765 & 15       & 86.629   & 58       & 1.493603\\\\\n",
       "\t  9910    & 3        & 16.290   & 11       & 1.480909 &  9       & 57.373   & 39       & 1.471103\\\\\n",
       "\t  8722    & 6        & 30.016   & 22       & 1.364364 & 18       & 99.338   & 68       & 1.460853\\\\\n",
       "\t 10003    & 5        & 22.043   & 19       & 1.160158 & 12       & 76.184   & 54       & 1.410815\\\\\n",
       "\t  9826    & 3        & 18.259   & 19       & 0.961000 &  9       & 56.180   & 40       & 1.404500\\\\\n",
       "\\end{tabular}\n"
      ],
      "text/markdown": [
       "\n",
       "| dog | homewins | homerevenue | homegames | homerev_multiple | awaywins | awayrevenue | awaygames | awayrev_multiple |\n",
       "|---|---|---|---|---|---|---|---|---|\n",
       "| 10267    | 1        |  5.607   | 15       | 0.373800 |  5       | 50.078   | 30       | 1.669267 |\n",
       "|  9905    | 7        | 35.339   | 17       | 2.078765 | 15       | 86.629   | 58       | 1.493603 |\n",
       "|  9910    | 3        | 16.290   | 11       | 1.480909 |  9       | 57.373   | 39       | 1.471103 |\n",
       "|  8722    | 6        | 30.016   | 22       | 1.364364 | 18       | 99.338   | 68       | 1.460853 |\n",
       "| 10003    | 5        | 22.043   | 19       | 1.160158 | 12       | 76.184   | 54       | 1.410815 |\n",
       "|  9826    | 3        | 18.259   | 19       | 0.961000 |  9       | 56.180   | 40       | 1.404500 |\n",
       "\n"
      ],
      "text/plain": [
       "  dog   homewins homerevenue homegames homerev_multiple awaywins awayrevenue\n",
       "1 10267 1         5.607      15        0.373800          5       50.078     \n",
       "2  9905 7        35.339      17        2.078765         15       86.629     \n",
       "3  9910 3        16.290      11        1.480909          9       57.373     \n",
       "4  8722 6        30.016      22        1.364364         18       99.338     \n",
       "5 10003 5        22.043      19        1.160158         12       76.184     \n",
       "6  9826 3        18.259      19        0.961000          9       56.180     \n",
       "  awaygames awayrev_multiple\n",
       "1 30        1.669267        \n",
       "2 58        1.493603        \n",
       "3 39        1.471103        \n",
       "4 68        1.460853        \n",
       "5 54        1.410815        \n",
       "6 40        1.404500        "
      ]
     },
     "metadata": {},
     "output_type": "display_data"
    },
    {
     "data": {
      "text/html": [
       "<table>\n",
       "<thead><tr><th scope=col>fav</th><th scope=col>homelosses</th><th scope=col>againsthomerevenue</th><th scope=col>homegames</th><th scope=col>againsthomerev_multiple</th><th scope=col>awaylosses</th><th scope=col>againstawayrevenue</th><th scope=col>awaygames</th><th scope=col>againstawayrev_multiple</th></tr></thead>\n",
       "<tbody>\n",
       "\t<tr><td>9985     </td><td>17       </td><td>110.480  </td><td> 89      </td><td>1.241348 </td><td> 7       </td><td>29.673   </td><td>38       </td><td>0.7808684</td></tr>\n",
       "\t<tr><td>8586     </td><td>19       </td><td>127.723  </td><td>112      </td><td>1.140384 </td><td> 9       </td><td>38.581   </td><td>49       </td><td>0.7873673</td></tr>\n",
       "\t<tr><td>9991     </td><td>17       </td><td> 96.910  </td><td> 85      </td><td>1.140118 </td><td> 5       </td><td>20.315   </td><td>28       </td><td>0.7255357</td></tr>\n",
       "\t<tr><td>8592     </td><td>23       </td><td>149.615  </td><td>134      </td><td>1.116530 </td><td>11       </td><td>45.748   </td><td>48       </td><td>0.9530833</td></tr>\n",
       "\t<tr><td>8650     </td><td>18       </td><td>128.632  </td><td>124      </td><td>1.037355 </td><td>21       </td><td>94.583   </td><td>76       </td><td>1.2445132</td></tr>\n",
       "</tbody>\n",
       "</table>\n"
      ],
      "text/latex": [
       "\\begin{tabular}{r|lllllllll}\n",
       " fav & homelosses & againsthomerevenue & homegames & againsthomerev\\_multiple & awaylosses & againstawayrevenue & awaygames & againstawayrev\\_multiple\\\\\n",
       "\\hline\n",
       "\t 9985      & 17        & 110.480   &  89       & 1.241348  &  7        & 29.673    & 38        & 0.7808684\\\\\n",
       "\t 8586      & 19        & 127.723   & 112       & 1.140384  &  9        & 38.581    & 49        & 0.7873673\\\\\n",
       "\t 9991      & 17        &  96.910   &  85       & 1.140118  &  5        & 20.315    & 28        & 0.7255357\\\\\n",
       "\t 8592      & 23        & 149.615   & 134       & 1.116530  & 11        & 45.748    & 48        & 0.9530833\\\\\n",
       "\t 8650      & 18        & 128.632   & 124       & 1.037355  & 21        & 94.583    & 76        & 1.2445132\\\\\n",
       "\\end{tabular}\n"
      ],
      "text/markdown": [
       "\n",
       "| fav | homelosses | againsthomerevenue | homegames | againsthomerev_multiple | awaylosses | againstawayrevenue | awaygames | againstawayrev_multiple |\n",
       "|---|---|---|---|---|---|---|---|---|\n",
       "| 9985      | 17        | 110.480   |  89       | 1.241348  |  7        | 29.673    | 38        | 0.7808684 |\n",
       "| 8586      | 19        | 127.723   | 112       | 1.140384  |  9        | 38.581    | 49        | 0.7873673 |\n",
       "| 9991      | 17        |  96.910   |  85       | 1.140118  |  5        | 20.315    | 28        | 0.7255357 |\n",
       "| 8592      | 23        | 149.615   | 134       | 1.116530  | 11        | 45.748    | 48        | 0.9530833 |\n",
       "| 8650      | 18        | 128.632   | 124       | 1.037355  | 21        | 94.583    | 76        | 1.2445132 |\n",
       "\n"
      ],
      "text/plain": [
       "  fav  homelosses againsthomerevenue homegames againsthomerev_multiple\n",
       "1 9985 17         110.480             89       1.241348               \n",
       "2 8586 19         127.723            112       1.140384               \n",
       "3 9991 17          96.910             85       1.140118               \n",
       "4 8592 23         149.615            134       1.116530               \n",
       "5 8650 18         128.632            124       1.037355               \n",
       "  awaylosses againstawayrevenue awaygames againstawayrev_multiple\n",
       "1  7         29.673             38        0.7808684              \n",
       "2  9         38.581             49        0.7873673              \n",
       "3  5         20.315             28        0.7255357              \n",
       "4 11         45.748             48        0.9530833              \n",
       "5 21         94.583             76        1.2445132              "
      ]
     },
     "metadata": {},
     "output_type": "display_data"
    },
    {
     "data": {
      "text/html": [
       "<table>\n",
       "<thead><tr><th scope=col>fav</th><th scope=col>homelosses</th><th scope=col>againsthomerevenue</th><th scope=col>homegames</th><th scope=col>againsthomerev_multiple</th><th scope=col>awaylosses</th><th scope=col>againstawayrevenue</th><th scope=col>awaygames</th><th scope=col>againstawayrev_multiple</th></tr></thead>\n",
       "<tbody>\n",
       "\t<tr><td>10229    </td><td>16       </td><td> 99.386  </td><td>106      </td><td>0.9376038</td><td>12       </td><td>62.369   </td><td>36       </td><td>1.732472 </td></tr>\n",
       "\t<tr><td> 9906    </td><td>12       </td><td> 68.922  </td><td>127      </td><td>0.5426929</td><td>12       </td><td>85.171   </td><td>57       </td><td>1.494228 </td></tr>\n",
       "\t<tr><td>10235    </td><td>14       </td><td>102.189  </td><td>104      </td><td>0.9825865</td><td>17       </td><td>81.440   </td><td>55       </td><td>1.480727 </td></tr>\n",
       "\t<tr><td> 8697    </td><td>11       </td><td> 58.832  </td><td> 63      </td><td>0.9338413</td><td> 5       </td><td>19.891   </td><td>14       </td><td>1.420786 </td></tr>\n",
       "\t<tr><td> 9938    </td><td>15       </td><td> 65.619  </td><td> 78      </td><td>0.8412692</td><td> 4       </td><td>15.154   </td><td>11       </td><td>1.377636 </td></tr>\n",
       "\t<tr><td> 9827    </td><td>17       </td><td> 93.395  </td><td>115      </td><td>0.8121304</td><td> 8       </td><td>31.884   </td><td>24       </td><td>1.328500 </td></tr>\n",
       "</tbody>\n",
       "</table>\n"
      ],
      "text/latex": [
       "\\begin{tabular}{r|lllllllll}\n",
       " fav & homelosses & againsthomerevenue & homegames & againsthomerev\\_multiple & awaylosses & againstawayrevenue & awaygames & againstawayrev\\_multiple\\\\\n",
       "\\hline\n",
       "\t 10229     & 16        &  99.386   & 106       & 0.9376038 & 12        & 62.369    & 36        & 1.732472 \\\\\n",
       "\t  9906     & 12        &  68.922   & 127       & 0.5426929 & 12        & 85.171    & 57        & 1.494228 \\\\\n",
       "\t 10235     & 14        & 102.189   & 104       & 0.9825865 & 17        & 81.440    & 55        & 1.480727 \\\\\n",
       "\t  8697     & 11        &  58.832   &  63       & 0.9338413 &  5        & 19.891    & 14        & 1.420786 \\\\\n",
       "\t  9938     & 15        &  65.619   &  78       & 0.8412692 &  4        & 15.154    & 11        & 1.377636 \\\\\n",
       "\t  9827     & 17        &  93.395   & 115       & 0.8121304 &  8        & 31.884    & 24        & 1.328500 \\\\\n",
       "\\end{tabular}\n"
      ],
      "text/markdown": [
       "\n",
       "| fav | homelosses | againsthomerevenue | homegames | againsthomerev_multiple | awaylosses | againstawayrevenue | awaygames | againstawayrev_multiple |\n",
       "|---|---|---|---|---|---|---|---|---|\n",
       "| 10229     | 16        |  99.386   | 106       | 0.9376038 | 12        | 62.369    | 36        | 1.732472  |\n",
       "|  9906     | 12        |  68.922   | 127       | 0.5426929 | 12        | 85.171    | 57        | 1.494228  |\n",
       "| 10235     | 14        | 102.189   | 104       | 0.9825865 | 17        | 81.440    | 55        | 1.480727  |\n",
       "|  8697     | 11        |  58.832   |  63       | 0.9338413 |  5        | 19.891    | 14        | 1.420786  |\n",
       "|  9938     | 15        |  65.619   |  78       | 0.8412692 |  4        | 15.154    | 11        | 1.377636  |\n",
       "|  9827     | 17        |  93.395   | 115       | 0.8121304 |  8        | 31.884    | 24        | 1.328500  |\n",
       "\n"
      ],
      "text/plain": [
       "  fav   homelosses againsthomerevenue homegames againsthomerev_multiple\n",
       "1 10229 16          99.386            106       0.9376038              \n",
       "2  9906 12          68.922            127       0.5426929              \n",
       "3 10235 14         102.189            104       0.9825865              \n",
       "4  8697 11          58.832             63       0.9338413              \n",
       "5  9938 15          65.619             78       0.8412692              \n",
       "6  9827 17          93.395            115       0.8121304              \n",
       "  awaylosses againstawayrevenue awaygames againstawayrev_multiple\n",
       "1 12         62.369             36        1.732472               \n",
       "2 12         85.171             57        1.494228               \n",
       "3 17         81.440             55        1.480727               \n",
       "4  5         19.891             14        1.420786               \n",
       "5  4         15.154             11        1.377636               \n",
       "6  8         31.884             24        1.328500               "
      ]
     },
     "metadata": {},
     "output_type": "display_data"
    }
   ],
   "source": [
    "goodhomedogs <- dogdata%>%filter(homerev_multiple>1)\n",
    "goodawaydogs <- dogdata%>%filter(awayrev_multiple>1)\n",
    "badhomefavs <- favdata%>%filter(againsthomerev_multiple>1)\n",
    "badawayfavs <- favdata%>%filter(againstawayrev_multiple>1)\n",
    "head(arrange(goodhomedogs,desc(homerev_multiple)))\n",
    "head(arrange(goodawaydogs,desc(awayrev_multiple)))\n",
    "head(arrange(badhomefavs,desc(againsthomerev_multiple)))\n",
    "head(arrange(badawayfavs,desc(againstawayrev_multiple)))"
   ]
  },
  {
   "cell_type": "markdown",
   "id": "excellent-broad",
   "metadata": {},
   "source": [
    "## analyse conditions of dog winning\n",
    "league,stage,season,date"
   ]
  },
  {
   "cell_type": "markdown",
   "id": "fleet-dining",
   "metadata": {},
   "source": [
    "### leaguescore"
   ]
  },
  {
   "cell_type": "code",
   "execution_count": 22,
   "id": "western-factor",
   "metadata": {},
   "outputs": [
    {
     "name": "stderr",
     "output_type": "stream",
     "text": [
      "Joining, by = \"league_id\"\n"
     ]
    },
    {
     "data": {
      "text/html": [
       "<table>\n",
       "<thead><tr><th scope=col>league_id</th><th scope=col>dogwins</th><th scope=col>games</th><th scope=col>leaguescore</th></tr></thead>\n",
       "<tbody>\n",
       "\t<tr><td>    1     </td><td>173       </td><td>1728      </td><td>0.10011574</td></tr>\n",
       "\t<tr><td> 1729     </td><td>348       </td><td>3040      </td><td>0.11447368</td></tr>\n",
       "\t<tr><td> 4769     </td><td>322       </td><td>3040      </td><td>0.10592105</td></tr>\n",
       "\t<tr><td> 7809     </td><td>275       </td><td>2448      </td><td>0.11233660</td></tr>\n",
       "\t<tr><td>10257     </td><td>308       </td><td>3017      </td><td>0.10208817</td></tr>\n",
       "\t<tr><td>13274     </td><td>241       </td><td>2448      </td><td>0.09844771</td></tr>\n",
       "</tbody>\n",
       "</table>\n"
      ],
      "text/latex": [
       "\\begin{tabular}{r|llll}\n",
       " league\\_id & dogwins & games & leaguescore\\\\\n",
       "\\hline\n",
       "\t     1      & 173        & 1728       & 0.10011574\\\\\n",
       "\t  1729      & 348        & 3040       & 0.11447368\\\\\n",
       "\t  4769      & 322        & 3040       & 0.10592105\\\\\n",
       "\t  7809      & 275        & 2448       & 0.11233660\\\\\n",
       "\t 10257      & 308        & 3017       & 0.10208817\\\\\n",
       "\t 13274      & 241        & 2448       & 0.09844771\\\\\n",
       "\\end{tabular}\n"
      ],
      "text/markdown": [
       "\n",
       "| league_id | dogwins | games | leaguescore |\n",
       "|---|---|---|---|\n",
       "|     1      | 173        | 1728       | 0.10011574 |\n",
       "|  1729      | 348        | 3040       | 0.11447368 |\n",
       "|  4769      | 322        | 3040       | 0.10592105 |\n",
       "|  7809      | 275        | 2448       | 0.11233660 |\n",
       "| 10257      | 308        | 3017       | 0.10208817 |\n",
       "| 13274      | 241        | 2448       | 0.09844771 |\n",
       "\n"
      ],
      "text/plain": [
       "  league_id dogwins games leaguescore\n",
       "1     1     173     1728  0.10011574 \n",
       "2  1729     348     3040  0.11447368 \n",
       "3  4769     322     3040  0.10592105 \n",
       "4  7809     275     2448  0.11233660 \n",
       "5 10257     308     3017  0.10208817 \n",
       "6 13274     241     2448  0.09844771 "
      ]
     },
     "metadata": {},
     "output_type": "display_data"
    }
   ],
   "source": [
    "byleagueplayed <- match1%>%group_by(league_id)%>%summarise(games=n())\n",
    "byleaguewin <- match1%>%filter(outcome!=0, ifelse(outcome==1,homeodds>3.5,awayodds>3.5))%>%\n",
    "  group_by(league_id)%>%summarise(dogwins=n())%>%left_join(byleagueplayed)%>%\n",
    "  mutate(leaguescore = dogwins/games)\n",
    "head(byleaguewin)\n",
    "#write.csv(byleaguewin,'byleaguewin.csv',row.names=F)"
   ]
  },
  {
   "cell_type": "markdown",
   "id": "alert-pastor",
   "metadata": {},
   "source": [
    "### stagescore"
   ]
  },
  {
   "cell_type": "code",
   "execution_count": 23,
   "id": "hearing-alarm",
   "metadata": {},
   "outputs": [
    {
     "name": "stderr",
     "output_type": "stream",
     "text": [
      "Joining, by = \"stage\"\n"
     ]
    },
    {
     "data": {
      "text/html": [
       "<table>\n",
       "<thead><tr><th scope=col>stage</th><th scope=col>dogwins</th><th scope=col>games</th><th scope=col>stagescore</th></tr></thead>\n",
       "<tbody>\n",
       "\t<tr><td>1         </td><td>70        </td><td>740       </td><td>0.09459459</td></tr>\n",
       "\t<tr><td>2         </td><td>70        </td><td>740       </td><td>0.09459459</td></tr>\n",
       "\t<tr><td>3         </td><td>54        </td><td>740       </td><td>0.07297297</td></tr>\n",
       "\t<tr><td>4         </td><td>64        </td><td>740       </td><td>0.08648649</td></tr>\n",
       "\t<tr><td>5         </td><td>64        </td><td>740       </td><td>0.08648649</td></tr>\n",
       "\t<tr><td>6         </td><td>62        </td><td>740       </td><td>0.08378378</td></tr>\n",
       "</tbody>\n",
       "</table>\n"
      ],
      "text/latex": [
       "\\begin{tabular}{r|llll}\n",
       " stage & dogwins & games & stagescore\\\\\n",
       "\\hline\n",
       "\t 1          & 70         & 740        & 0.09459459\\\\\n",
       "\t 2          & 70         & 740        & 0.09459459\\\\\n",
       "\t 3          & 54         & 740        & 0.07297297\\\\\n",
       "\t 4          & 64         & 740        & 0.08648649\\\\\n",
       "\t 5          & 64         & 740        & 0.08648649\\\\\n",
       "\t 6          & 62         & 740        & 0.08378378\\\\\n",
       "\\end{tabular}\n"
      ],
      "text/markdown": [
       "\n",
       "| stage | dogwins | games | stagescore |\n",
       "|---|---|---|---|\n",
       "| 1          | 70         | 740        | 0.09459459 |\n",
       "| 2          | 70         | 740        | 0.09459459 |\n",
       "| 3          | 54         | 740        | 0.07297297 |\n",
       "| 4          | 64         | 740        | 0.08648649 |\n",
       "| 5          | 64         | 740        | 0.08648649 |\n",
       "| 6          | 62         | 740        | 0.08378378 |\n",
       "\n"
      ],
      "text/plain": [
       "  stage dogwins games stagescore\n",
       "1 1     70      740   0.09459459\n",
       "2 2     70      740   0.09459459\n",
       "3 3     54      740   0.07297297\n",
       "4 4     64      740   0.08648649\n",
       "5 5     64      740   0.08648649\n",
       "6 6     62      740   0.08378378"
      ]
     },
     "metadata": {},
     "output_type": "display_data"
    }
   ],
   "source": [
    "bystage <- match1%>%group_by(stage)%>%summarise(games=n())\n",
    "bystagewin <- match1%>%filter(outcome!=0, ifelse(outcome==1,homeodds>3.5,awayodds>3.5))%>%\n",
    "  group_by(stage)%>%summarise(dogwins=n())%>%left_join(bystage)%>%\n",
    "  mutate(stagescore = dogwins/games)\n",
    "head(bystagewin)\n",
    "#write.csv(bystagewin,'bystagewin.csv',row.names=F)"
   ]
  },
  {
   "cell_type": "markdown",
   "id": "prerequisite-bathroom",
   "metadata": {},
   "source": [
    "### seasonscore"
   ]
  },
  {
   "cell_type": "code",
   "execution_count": 25,
   "id": "grand-auckland",
   "metadata": {},
   "outputs": [
    {
     "name": "stderr",
     "output_type": "stream",
     "text": [
      "Joining, by = \"season\"\n"
     ]
    },
    {
     "data": {
      "text/html": [
       "<table>\n",
       "<thead><tr><th scope=col>season</th><th scope=col>dogwins</th><th scope=col>games</th><th scope=col>seasonscore</th></tr></thead>\n",
       "<tbody>\n",
       "\t<tr><td>2008/2009 </td><td>262       </td><td>3326      </td><td>0.07877330</td></tr>\n",
       "\t<tr><td>2009/2010 </td><td>260       </td><td>3230      </td><td>0.08049536</td></tr>\n",
       "\t<tr><td>2010/2011 </td><td>290       </td><td>3260      </td><td>0.08895706</td></tr>\n",
       "\t<tr><td>2011/2012 </td><td>287       </td><td>3220      </td><td>0.08913043</td></tr>\n",
       "\t<tr><td>2012/2013 </td><td>312       </td><td>3260      </td><td>0.09570552</td></tr>\n",
       "\t<tr><td>2013/2014 </td><td>277       </td><td>3032      </td><td>0.09135884</td></tr>\n",
       "</tbody>\n",
       "</table>\n"
      ],
      "text/latex": [
       "\\begin{tabular}{r|llll}\n",
       " season & dogwins & games & seasonscore\\\\\n",
       "\\hline\n",
       "\t 2008/2009  & 262        & 3326       & 0.07877330\\\\\n",
       "\t 2009/2010  & 260        & 3230       & 0.08049536\\\\\n",
       "\t 2010/2011  & 290        & 3260       & 0.08895706\\\\\n",
       "\t 2011/2012  & 287        & 3220       & 0.08913043\\\\\n",
       "\t 2012/2013  & 312        & 3260       & 0.09570552\\\\\n",
       "\t 2013/2014  & 277        & 3032       & 0.09135884\\\\\n",
       "\\end{tabular}\n"
      ],
      "text/markdown": [
       "\n",
       "| season | dogwins | games | seasonscore |\n",
       "|---|---|---|---|\n",
       "| 2008/2009  | 262        | 3326       | 0.07877330 |\n",
       "| 2009/2010  | 260        | 3230       | 0.08049536 |\n",
       "| 2010/2011  | 290        | 3260       | 0.08895706 |\n",
       "| 2011/2012  | 287        | 3220       | 0.08913043 |\n",
       "| 2012/2013  | 312        | 3260       | 0.09570552 |\n",
       "| 2013/2014  | 277        | 3032       | 0.09135884 |\n",
       "\n"
      ],
      "text/plain": [
       "  season    dogwins games seasonscore\n",
       "1 2008/2009 262     3326  0.07877330 \n",
       "2 2009/2010 260     3230  0.08049536 \n",
       "3 2010/2011 290     3260  0.08895706 \n",
       "4 2011/2012 287     3220  0.08913043 \n",
       "5 2012/2013 312     3260  0.09570552 \n",
       "6 2013/2014 277     3032  0.09135884 "
      ]
     },
     "metadata": {},
     "output_type": "display_data"
    }
   ],
   "source": [
    "byseason <- match1%>%group_by(season)%>%summarise(games=n())\n",
    "byseasonwin <- match1%>%filter(outcome!=0, ifelse(outcome==1,homeodds>3.5,awayodds>3.5))%>%\n",
    "  group_by(season)%>%summarise(dogwins=n())%>%left_join(byseason)%>%\n",
    "  mutate(seasonscore = dogwins/games)\n",
    "head(byseasonwin)\n",
    "#write.csv(byseasonwin,'byseasonwin.csv',row.names=F)"
   ]
  },
  {
   "cell_type": "markdown",
   "id": "needed-antarctica",
   "metadata": {},
   "source": [
    "### weekscore"
   ]
  },
  {
   "cell_type": "code",
   "execution_count": 29,
   "id": "legitimate-bradley",
   "metadata": {},
   "outputs": [
    {
     "name": "stderr",
     "output_type": "stream",
     "text": [
      "Joining, by = \"week_num\"\n"
     ]
    },
    {
     "data": {
      "text/html": [
       "<table>\n",
       "<thead><tr><th scope=col>week_num</th><th scope=col>dogwins</th><th scope=col>games</th><th scope=col>weekscore</th></tr></thead>\n",
       "<tbody>\n",
       "\t<tr><td>2         </td><td>50        </td><td>498       </td><td>0.10040161</td></tr>\n",
       "\t<tr><td>3         </td><td>52        </td><td>577       </td><td>0.09012132</td></tr>\n",
       "\t<tr><td>4         </td><td>52        </td><td>550       </td><td>0.09454545</td></tr>\n",
       "\t<tr><td>5         </td><td>74        </td><td>755       </td><td>0.09801325</td></tr>\n",
       "\t<tr><td>6         </td><td>74        </td><td>689       </td><td>0.10740203</td></tr>\n",
       "\t<tr><td>7         </td><td>55        </td><td>672       </td><td>0.08184524</td></tr>\n",
       "</tbody>\n",
       "</table>\n"
      ],
      "text/latex": [
       "\\begin{tabular}{r|llll}\n",
       " week\\_num & dogwins & games & weekscore\\\\\n",
       "\\hline\n",
       "\t 2          & 50         & 498        & 0.10040161\\\\\n",
       "\t 3          & 52         & 577        & 0.09012132\\\\\n",
       "\t 4          & 52         & 550        & 0.09454545\\\\\n",
       "\t 5          & 74         & 755        & 0.09801325\\\\\n",
       "\t 6          & 74         & 689        & 0.10740203\\\\\n",
       "\t 7          & 55         & 672        & 0.08184524\\\\\n",
       "\\end{tabular}\n"
      ],
      "text/markdown": [
       "\n",
       "| week_num | dogwins | games | weekscore |\n",
       "|---|---|---|---|\n",
       "| 2          | 50         | 498        | 0.10040161 |\n",
       "| 3          | 52         | 577        | 0.09012132 |\n",
       "| 4          | 52         | 550        | 0.09454545 |\n",
       "| 5          | 74         | 755        | 0.09801325 |\n",
       "| 6          | 74         | 689        | 0.10740203 |\n",
       "| 7          | 55         | 672        | 0.08184524 |\n",
       "\n"
      ],
      "text/plain": [
       "  week_num dogwins games weekscore \n",
       "1 2        50      498   0.10040161\n",
       "2 3        52      577   0.09012132\n",
       "3 4        52      550   0.09454545\n",
       "4 5        74      755   0.09801325\n",
       "5 6        74      689   0.10740203\n",
       "6 7        55      672   0.08184524"
      ]
     },
     "metadata": {},
     "output_type": "display_data"
    }
   ],
   "source": [
    "match2 <- read.csv(\"match_with_date_cols.csv\", header=T)\n",
    "byweek <- match2%>%group_by(week_num)%>%summarise(games=n())\n",
    "byweekwin <- match2%>%filter(outcome!=0, ifelse(outcome==1,oddsh>3.5,oddsa>3.5))%>%\n",
    "  group_by(week_num)%>%summarise(dogwins=n())%>%left_join(byweek)%>%filter(games>(mean(games)-sd(games)))%>%\n",
    "  mutate(weekscore = dogwins/games)\n",
    "head(byweekwin)\n",
    "#write.csv(byweekwin,'byweekwin.csv',row.names=F)"
   ]
  },
  {
   "cell_type": "markdown",
   "id": "loose-recruitment",
   "metadata": {},
   "source": [
    "### visualise conditions with mean ref line"
   ]
  },
  {
   "cell_type": "code",
   "execution_count": 32,
   "id": "centered-shuttle",
   "metadata": {},
   "outputs": [
    {
     "data": {
      "image/png": "[encoded data removed]",
      "text/plain": [
       "plot without title"
      ]
     },
     "metadata": {},
     "output_type": "display_data"
    }
   ],
   "source": [
    "byleaguewin[1] <- sapply(byleaguewin[1], as.character)\n",
    "ggplot(byleaguewin, aes(league_id, leaguescore)) +geom_point()+geom_hline(aes(yintercept =(mean(leaguescore))))"
   ]
  },
  {
   "cell_type": "code",
   "execution_count": 33,
   "id": "declared-oxford",
   "metadata": {},
   "outputs": [
    {
     "data": {
      "image/png": "[encoded data removed]",
      "text/plain": [
       "plot without title"
      ]
     },
     "metadata": {},
     "output_type": "display_data"
    }
   ],
   "source": [
    "ggplot(bystagewin, aes(stage, stagescore)) +geom_point()+geom_hline(aes(yintercept =(mean(stagescore))))"
   ]
  },
  {
   "cell_type": "code",
   "execution_count": 34,
   "id": "accepted-report",
   "metadata": {},
   "outputs": [
    {
     "data": {
      "image/png": "[encoded data removed]",
      "text/plain": [
       "plot without title"
      ]
     },
     "metadata": {},
     "output_type": "display_data"
    }
   ],
   "source": [
    "ggplot(byseasonwin, aes(season, seasonscore)) +geom_point()+geom_hline(aes(yintercept =(mean(seasonscore))))"
   ]
  },
  {
   "cell_type": "code",
   "execution_count": 37,
   "id": "absolute-dressing",
   "metadata": {},
   "outputs": [
    {
     "data": {
      "image/png": "[encoded data removed]",
      "text/plain": [
       "plot without title"
      ]
     },
     "metadata": {},
     "output_type": "display_data"
    }
   ],
   "source": [
    "ggplot(byweekwin, aes(week_num, weekscore)) +geom_point()+geom_hline(aes(yintercept =(mean(weekscore))))"
   ]
  },
  {
   "cell_type": "code",
   "execution_count": null,
   "id": "disabled-longer",
   "metadata": {},
   "outputs": [],
   "source": []
  }
 ],
 "metadata": {
  "kernelspec": {
   "display_name": "R",
   "language": "R",
   "name": "ir"
  },
  "language_info": {
   "codemirror_mode": "r",
   "file_extension": ".r",
   "mimetype": "text/x-r-source",
   "name": "R",
   "pygments_lexer": "r",
   "version": "3.6.1"
  }
 },
 "nbformat": 4,
 "nbformat_minor": 5
}
