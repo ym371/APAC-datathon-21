{
 "cells": [
  {
   "cell_type": "code",
   "execution_count": 5,
   "id": "lovely-caution",
   "metadata": {},
   "outputs": [
    {
     "data": {
      "text/plain": [
       "       season     home_team_goal   away_team_goal    goalmargin     \n",
       " 2015/2016:2906   Min.   : 0.000   Min.   :0.000   Min.   :-9.0000  \n",
       " 2014/2015:2904   1st Qu.: 1.000   1st Qu.:0.000   1st Qu.:-1.0000  \n",
       " 2008/2009:2898   Median : 1.000   Median :1.000   Median : 0.0000  \n",
       " 2010/2011:2837   Mean   : 1.549   Mean   :1.166   Mean   : 0.3838  \n",
       " 2012/2013:2832   3rd Qu.: 2.000   3rd Qu.:2.000   3rd Qu.: 1.0000  \n",
       " 2011/2012:2814   Max.   :10.000   Max.   :9.000   Max.   :10.0000  \n",
       " (Other)  :5406                                                     \n",
       "    outcome           homeodds         drawodds         awayodds     \n",
       " Min.   :-1.0000   Min.   : 1.030   Min.   : 1.330   Min.   : 1.100  \n",
       " 1st Qu.:-1.0000   1st Qu.: 1.730   1st Qu.: 3.400   1st Qu.: 2.620  \n",
       " Median : 0.0000   Median : 2.200   Median : 3.600   Median : 3.700  \n",
       " Mean   : 0.1712   Mean   : 2.766   Mean   : 4.019   Mean   : 5.096  \n",
       " 3rd Qu.: 1.0000   3rd Qu.: 2.900   3rd Qu.: 4.100   3rd Qu.: 5.500  \n",
       " Max.   : 1.0000   Max.   :36.000   Max.   :29.000   Max.   :67.000  \n",
       "                                                                     "
      ]
     },
     "metadata": {},
     "output_type": "display_data"
    }
   ],
   "source": [
    "library(dplyr);library(ggplot2);library(corrplot);library(matrixStats)\n",
    "matchnew <- read.csv(\"match_newTeamID.csv\", header=T)\n",
    "tattnew <- read.csv(\"team_attributes_GrpByNewTEAMID.csv\", header=T)\n",
    "match2 <- matchnew%>%mutate(goalmargin = home_team_goal-away_team_goal)%>%\n",
    "  mutate(outcome = ifelse(goalmargin==0, 0, goalmargin/abs(goalmargin)))\n",
    "matchhome <- select(match2, seq(34,63,3))\n",
    "matchdraw <- select(match2, seq(35,63,3))\n",
    "matchaway <- select(match2, seq(36,63,3))\n",
    "besthome <- transmute(matchhome, homeodds=rowMaxs(as.matrix(matchhome),na.rm=T))\n",
    "bestdraw <- transmute(matchdraw, drawodds=rowMaxs(as.matrix(matchdraw),na.rm=T))\n",
    "bestaway <- transmute(matchaway, awayodds=rowMaxs(as.matrix(matchaway),na.rm=T))\n",
    "match2 <- bind_cols(match2,besthome,bestdraw,bestaway)\n",
    "match2 <- match2%>%select(-seq(12,63),-c(1,2,'home_team_id','away_team_id','date','year'))%>%\n",
    "  filter(homeodds>0)\n",
    "summary(match2[,-c(1,3,4,7,8,9,10,11)])"
   ]
  },
  {
   "cell_type": "code",
   "execution_count": 6,
   "id": "funded-northwest",
   "metadata": {},
   "outputs": [
    {
     "data": {
      "text/plain": [
       "       season    home_team_goal  away_team_goal   goalmargin     \n",
       " 2015/2016:402   Min.   :0.000   Min.   :0.00   Min.   :-5.0000  \n",
       " 2012/2013:378   1st Qu.:0.000   1st Qu.:1.00   1st Qu.:-2.0000  \n",
       " 2014/2015:376   Median :1.000   Median :2.00   Median :-1.0000  \n",
       " 2008/2009:373   Mean   :1.007   Mean   :1.73   Mean   :-0.7233  \n",
       " 2010/2011:369   3rd Qu.:2.000   3rd Qu.:2.00   3rd Qu.: 1.0000  \n",
       " 2011/2012:359   Max.   :6.000   Max.   :7.00   Max.   : 5.0000  \n",
       " (Other)  :656                                                   \n",
       "    outcome           homeodds         drawodds        awayodds     \n",
       " Min.   :-1.0000   Min.   : 1.070   Min.   : 1.70   Min.   : 1.220  \n",
       " 1st Qu.:-1.0000   1st Qu.: 1.800   1st Qu.: 3.40   1st Qu.: 2.300  \n",
       " Median :-1.0000   Median : 2.100   Median : 3.60   Median : 4.000  \n",
       " Mean   :-0.4775   Mean   : 2.743   Mean   : 3.82   Mean   : 4.494  \n",
       " 3rd Qu.: 1.0000   3rd Qu.: 3.500   3rd Qu.: 4.00   3rd Qu.: 5.250  \n",
       " Max.   : 1.0000   Max.   :18.890   Max.   :12.00   Max.   :36.030  \n",
       "                                                                    "
      ]
     },
     "metadata": {},
     "output_type": "display_data"
    }
   ],
   "source": [
    "# every match that dog wins\n",
    "dogwins <- match2%>%filter(outcome==1 & homeodds>=3.5 | outcome==-1 & awayodds>=3.5)\n",
    "summary(dogwins[,-c(1,3,4,7,8,9,10,11)])"
   ]
  },
  {
   "cell_type": "markdown",
   "id": "noble-muslim",
   "metadata": {},
   "source": [
    "## visualise corr btw goalmargin and odds"
   ]
  },
  {
   "cell_type": "code",
   "execution_count": 8,
   "id": "appropriate-dominican",
   "metadata": {},
   "outputs": [
    {
     "data": {
      "image/png": "[encoded data removed]",
      "text/plain": [
       "Plot with title \"when dog wins\""
      ]
     },
     "metadata": {},
     "output_type": "display_data"
    }
   ],
   "source": [
    "library(repr); options(repr.plot.width=8, repr.plot.height=4); par(mfrow=c(1,2))\n",
    "corrplot(cor(match2[,c(\"goalmargin\",\"homeodds\",\"awayodds\")]),type=\"upper\",title=\"all matches\",method=\"color\",addCoef.col = \"black\",number.cex = 1)\n",
    "corrplot(cor(dogwins[,c(\"goalmargin\",\"homeodds\",\"awayodds\")]),type=\"upper\",title=\"when dog wins\",method=\"color\",addCoef.col = \"black\",number.cex = 1)"
   ]
  },
  {
   "cell_type": "markdown",
   "id": "formed-female",
   "metadata": {},
   "source": [
    "## profit if bet ON dogs"
   ]
  },
  {
   "cell_type": "code",
   "execution_count": 10,
   "id": "internal-pressing",
   "metadata": {},
   "outputs": [
    {
     "name": "stderr",
     "output_type": "stream",
     "text": [
      "Joining, by = \"home_team_id_new\"\n",
      "Joining, by = \"away_team_id_new\"\n",
      "Joining, by = \"dog\"\n"
     ]
    },
    {
     "data": {
      "text/html": [
       "<table>\n",
       "<thead><tr><th scope=col>dog</th><th scope=col>homewins</th><th scope=col>homerevenue</th><th scope=col>homegames</th><th scope=col>homerev_multiple</th><th scope=col>awaywins</th><th scope=col>awayrevenue</th><th scope=col>awaygames</th><th scope=col>awayrev_multiple</th></tr></thead>\n",
       "<tbody>\n",
       "\t<tr><td>17732011 </td><td>2        </td><td>13.00    </td><td>4        </td><td>3.250000 </td><td>1        </td><td> 5.50    </td><td>10       </td><td>0.5500000</td></tr>\n",
       "\t<tr><td>17732012 </td><td>1        </td><td> 4.80    </td><td>5        </td><td>0.960000 </td><td>2        </td><td> 8.18    </td><td>15       </td><td>0.5453333</td></tr>\n",
       "\t<tr><td>20332014 </td><td>1        </td><td> 5.91    </td><td>5        </td><td>1.182000 </td><td>1        </td><td> 6.18    </td><td> 6       </td><td>1.0300000</td></tr>\n",
       "\t<tr><td>40492008 </td><td>1        </td><td> 4.60    </td><td>5        </td><td>0.920000 </td><td>1        </td><td> 4.20    </td><td> 8       </td><td>0.5250000</td></tr>\n",
       "\t<tr><td>40872012 </td><td>1        </td><td> 3.50    </td><td>5        </td><td>0.700000 </td><td>7        </td><td>34.49    </td><td>16       </td><td>2.1556250</td></tr>\n",
       "\t<tr><td>40872013 </td><td>1        </td><td>10.27    </td><td>3        </td><td>3.423333 </td><td>2        </td><td>12.76    </td><td>14       </td><td>0.9114286</td></tr>\n",
       "</tbody>\n",
       "</table>\n"
      ],
      "text/latex": [
       "\\begin{tabular}{r|lllllllll}\n",
       " dog & homewins & homerevenue & homegames & homerev\\_multiple & awaywins & awayrevenue & awaygames & awayrev\\_multiple\\\\\n",
       "\\hline\n",
       "\t 17732011  & 2         & 13.00     & 4         & 3.250000  & 1         &  5.50     & 10        & 0.5500000\\\\\n",
       "\t 17732012  & 1         &  4.80     & 5         & 0.960000  & 2         &  8.18     & 15        & 0.5453333\\\\\n",
       "\t 20332014  & 1         &  5.91     & 5         & 1.182000  & 1         &  6.18     &  6        & 1.0300000\\\\\n",
       "\t 40492008  & 1         &  4.60     & 5         & 0.920000  & 1         &  4.20     &  8        & 0.5250000\\\\\n",
       "\t 40872012  & 1         &  3.50     & 5         & 0.700000  & 7         & 34.49     & 16        & 2.1556250\\\\\n",
       "\t 40872013  & 1         & 10.27     & 3         & 3.423333  & 2         & 12.76     & 14        & 0.9114286\\\\\n",
       "\\end{tabular}\n"
      ],
      "text/markdown": [
       "\n",
       "| dog | homewins | homerevenue | homegames | homerev_multiple | awaywins | awayrevenue | awaygames | awayrev_multiple |\n",
       "|---|---|---|---|---|---|---|---|---|\n",
       "| 17732011  | 2         | 13.00     | 4         | 3.250000  | 1         |  5.50     | 10        | 0.5500000 |\n",
       "| 17732012  | 1         |  4.80     | 5         | 0.960000  | 2         |  8.18     | 15        | 0.5453333 |\n",
       "| 20332014  | 1         |  5.91     | 5         | 1.182000  | 1         |  6.18     |  6        | 1.0300000 |\n",
       "| 40492008  | 1         |  4.60     | 5         | 0.920000  | 1         |  4.20     |  8        | 0.5250000 |\n",
       "| 40872012  | 1         |  3.50     | 5         | 0.700000  | 7         | 34.49     | 16        | 2.1556250 |\n",
       "| 40872013  | 1         | 10.27     | 3         | 3.423333  | 2         | 12.76     | 14        | 0.9114286 |\n",
       "\n"
      ],
      "text/plain": [
       "  dog      homewins homerevenue homegames homerev_multiple awaywins awayrevenue\n",
       "1 17732011 2        13.00       4         3.250000         1         5.50      \n",
       "2 17732012 1         4.80       5         0.960000         2         8.18      \n",
       "3 20332014 1         5.91       5         1.182000         1         6.18      \n",
       "4 40492008 1         4.60       5         0.920000         1         4.20      \n",
       "5 40872012 1         3.50       5         0.700000         7        34.49      \n",
       "6 40872013 1        10.27       3         3.423333         2        12.76      \n",
       "  awaygames awayrev_multiple\n",
       "1 10        0.5500000       \n",
       "2 15        0.5453333       \n",
       "3  6        1.0300000       \n",
       "4  8        0.5250000       \n",
       "5 16        2.1556250       \n",
       "6 14        0.9114286       "
      ]
     },
     "metadata": {},
     "output_type": "display_data"
    }
   ],
   "source": [
    "homedogs <- match2%>%filter(homeodds>=3.5)%>%group_by(home_team_id_new)%>%summarise(homegames=n())\n",
    "awaydogs <- match2%>%filter(awayodds>=3.5)%>%group_by(away_team_id_new)%>%summarise(awaygames=n())\n",
    "homedata <- dogwins%>%filter(outcome==1)%>%group_by(home_team_id_new)%>%\n",
    "  summarise(homewins=n(),homerevenue=sum(homeodds))%>%left_join(homedogs)%>%filter(!is.na(homewins))%>%\n",
    "  mutate(homerev_multiple = homerevenue/homegames)%>%rename(dog=home_team_id_new)\n",
    "awaydata <- dogwins%>%filter(outcome==-1)%>%group_by(away_team_id_new)%>%\n",
    "  summarise(awaywins=n(),awayrevenue=sum(awayodds))%>%left_join(awaydogs)%>%filter(!is.na(awaywins))%>%\n",
    "  mutate(awayrev_multiple = awayrevenue/awaygames)%>%rename(dog=away_team_id_new)\n",
    "dogdata_new <- left_join(homedata,awaydata)\n",
    "dogdata_new <- dogdata_new%>%filter(homegames>=3,awaygames>=3)\n",
    "head(dogdata_new)\n",
    "#write.csv(dogdata_new,'dogdata_new.csv',row.names=F)"
   ]
  },
  {
   "cell_type": "markdown",
   "id": "rubber-recognition",
   "metadata": {},
   "source": [
    "homerev_multiple is how many times the return is over total bet amt, if bet that dog wins at home"
   ]
  },
  {
   "cell_type": "markdown",
   "id": "embedded-redhead",
   "metadata": {},
   "source": [
    "## profit if bet AGAINST favourites"
   ]
  },
  {
   "cell_type": "code",
   "execution_count": 11,
   "id": "seven-international",
   "metadata": {
    "scrolled": true
   },
   "outputs": [
    {
     "name": "stderr",
     "output_type": "stream",
     "text": [
      "Joining, by = \"home_team_id_new\"\n",
      "Joining, by = \"away_team_id_new\"\n",
      "Joining, by = \"fav\"\n"
     ]
    },
    {
     "data": {
      "text/html": [
       "<table>\n",
       "<thead><tr><th scope=col>fav</th><th scope=col>homelosses</th><th scope=col>againsthomerevenue</th><th scope=col>homegames</th><th scope=col>againsthomerev_multiple</th><th scope=col>awaylosses</th><th scope=col>againstawayrevenue</th><th scope=col>awaygames</th><th scope=col>againstawayrev_multiple</th></tr></thead>\n",
       "<tbody>\n",
       "\t<tr><td>80662015 </td><td>2        </td><td> 8.69    </td><td>12       </td><td>0.7241667</td><td>2        </td><td> 9.60    </td><td>6        </td><td>1.6000000</td></tr>\n",
       "\t<tr><td>81782008 </td><td>2        </td><td> 9.75    </td><td> 8       </td><td>1.2187500</td><td>1        </td><td> 5.25    </td><td>5        </td><td>1.0500000</td></tr>\n",
       "\t<tr><td>81782009 </td><td>3        </td><td>17.25    </td><td>14       </td><td>1.2321429</td><td>1        </td><td> 3.50    </td><td>6        </td><td>0.5833333</td></tr>\n",
       "\t<tr><td>81782010 </td><td>2        </td><td>12.90    </td><td>15       </td><td>0.8600000</td><td>1        </td><td> 5.40    </td><td>5        </td><td>1.0800000</td></tr>\n",
       "\t<tr><td>81782011 </td><td>3        </td><td>19.80    </td><td>14       </td><td>1.4142857</td><td>3        </td><td>11.93    </td><td>9        </td><td>1.3255556</td></tr>\n",
       "\t<tr><td>81782013 </td><td>1        </td><td> 7.50    </td><td>15       </td><td>0.5000000</td><td>2        </td><td>11.75    </td><td>8        </td><td>1.4687500</td></tr>\n",
       "</tbody>\n",
       "</table>\n"
      ],
      "text/latex": [
       "\\begin{tabular}{r|lllllllll}\n",
       " fav & homelosses & againsthomerevenue & homegames & againsthomerev\\_multiple & awaylosses & againstawayrevenue & awaygames & againstawayrev\\_multiple\\\\\n",
       "\\hline\n",
       "\t 80662015  & 2         &  8.69     & 12        & 0.7241667 & 2         &  9.60     & 6         & 1.6000000\\\\\n",
       "\t 81782008  & 2         &  9.75     &  8        & 1.2187500 & 1         &  5.25     & 5         & 1.0500000\\\\\n",
       "\t 81782009  & 3         & 17.25     & 14        & 1.2321429 & 1         &  3.50     & 6         & 0.5833333\\\\\n",
       "\t 81782010  & 2         & 12.90     & 15        & 0.8600000 & 1         &  5.40     & 5         & 1.0800000\\\\\n",
       "\t 81782011  & 3         & 19.80     & 14        & 1.4142857 & 3         & 11.93     & 9         & 1.3255556\\\\\n",
       "\t 81782013  & 1         &  7.50     & 15        & 0.5000000 & 2         & 11.75     & 8         & 1.4687500\\\\\n",
       "\\end{tabular}\n"
      ],
      "text/markdown": [
       "\n",
       "| fav | homelosses | againsthomerevenue | homegames | againsthomerev_multiple | awaylosses | againstawayrevenue | awaygames | againstawayrev_multiple |\n",
       "|---|---|---|---|---|---|---|---|---|\n",
       "| 80662015  | 2         |  8.69     | 12        | 0.7241667 | 2         |  9.60     | 6         | 1.6000000 |\n",
       "| 81782008  | 2         |  9.75     |  8        | 1.2187500 | 1         |  5.25     | 5         | 1.0500000 |\n",
       "| 81782009  | 3         | 17.25     | 14        | 1.2321429 | 1         |  3.50     | 6         | 0.5833333 |\n",
       "| 81782010  | 2         | 12.90     | 15        | 0.8600000 | 1         |  5.40     | 5         | 1.0800000 |\n",
       "| 81782011  | 3         | 19.80     | 14        | 1.4142857 | 3         | 11.93     | 9         | 1.3255556 |\n",
       "| 81782013  | 1         |  7.50     | 15        | 0.5000000 | 2         | 11.75     | 8         | 1.4687500 |\n",
       "\n"
      ],
      "text/plain": [
       "  fav      homelosses againsthomerevenue homegames againsthomerev_multiple\n",
       "1 80662015 2           8.69              12        0.7241667              \n",
       "2 81782008 2           9.75               8        1.2187500              \n",
       "3 81782009 3          17.25              14        1.2321429              \n",
       "4 81782010 2          12.90              15        0.8600000              \n",
       "5 81782011 3          19.80              14        1.4142857              \n",
       "6 81782013 1           7.50              15        0.5000000              \n",
       "  awaylosses againstawayrevenue awaygames againstawayrev_multiple\n",
       "1 2           9.60              6         1.6000000              \n",
       "2 1           5.25              5         1.0500000              \n",
       "3 1           3.50              6         0.5833333              \n",
       "4 1           5.40              5         1.0800000              \n",
       "5 3          11.93              9         1.3255556              \n",
       "6 2          11.75              8         1.4687500              "
      ]
     },
     "metadata": {},
     "output_type": "display_data"
    }
   ],
   "source": [
    "homefav <- match2%>%filter(awayodds>=3.5)%>%group_by(home_team_id_new)%>%summarise(homegames=n())\n",
    "awayfav <- match2%>%filter(homeodds>=3.5)%>%group_by(away_team_id_new)%>%summarise(awaygames=n())\n",
    "homedata1 <- match2%>%filter(awayodds>=3.5,outcome==-1)%>%group_by(home_team_id_new)%>%\n",
    "  summarise(homelosses=n(),againsthomerevenue=sum(awayodds))%>%left_join(homefav)%>%filter(!is.na(homelosses))%>%\n",
    "  mutate(againsthomerev_multiple = againsthomerevenue/homegames)%>%rename(fav=home_team_id_new)\n",
    "awaydata1 <- match2%>%filter(homeodds>=3.5,outcome==1)%>%group_by(away_team_id_new)%>%\n",
    "  summarise(awaylosses=n(),againstawayrevenue=sum(homeodds))%>%left_join(awayfav)%>%filter(!is.na(awaylosses))%>%\n",
    "  mutate(againstawayrev_multiple = againstawayrevenue/awaygames)%>%rename(fav=away_team_id_new)\n",
    "favdata_new <- left_join(homedata1,awaydata1)\n",
    "favdata_new <- favdata_new%>%filter(homegames>=3,awaygames>=3)\n",
    "head(favdata_new)\n",
    "#write.csv(favdata_new,'favdata_new.csv',row.names=F)"
   ]
  },
  {
   "cell_type": "markdown",
   "id": "swedish-thumbnail",
   "metadata": {},
   "source": [
    "againsthomerev_multiple is how many times the return is over total bet amt, if bet against the fav (bet that fav loses at home)"
   ]
  },
  {
   "cell_type": "markdown",
   "id": "favorite-establishment",
   "metadata": {},
   "source": [
    "## identify feasible gooddogs and badfavs w multiple>1 (profit positive)"
   ]
  },
  {
   "cell_type": "code",
   "execution_count": 12,
   "id": "wired-gender",
   "metadata": {},
   "outputs": [
    {
     "data": {
      "text/html": [
       "<table>\n",
       "<thead><tr><th scope=col>dog</th><th scope=col>homewins</th><th scope=col>homerevenue</th><th scope=col>homegames</th><th scope=col>homerev_multiple</th><th scope=col>awaywins</th><th scope=col>awayrevenue</th><th scope=col>awaygames</th><th scope=col>awayrev_multiple</th></tr></thead>\n",
       "<tbody>\n",
       "\t<tr><td>99042011 </td><td>3        </td><td>18.90    </td><td>3        </td><td>6.300000 </td><td>1        </td><td> 3.75    </td><td> 8       </td><td>0.4687500</td></tr>\n",
       "\t<tr><td>98102010 </td><td>3        </td><td>16.75    </td><td>4        </td><td>4.187500 </td><td>3        </td><td>13.80    </td><td> 9       </td><td>1.5333333</td></tr>\n",
       "\t<tr><td>98762016 </td><td>2        </td><td>12.40    </td><td>3        </td><td>4.133333 </td><td>1        </td><td> 4.58    </td><td>11       </td><td>0.4163636</td></tr>\n",
       "\t<tr><td>84672016 </td><td>2        </td><td>12.09    </td><td>3        </td><td>4.030000 </td><td>1        </td><td> 4.86    </td><td> 4       </td><td>1.2150000</td></tr>\n",
       "\t<tr><td>85402011 </td><td>3        </td><td>11.30    </td><td>3        </td><td>3.766667 </td><td>2        </td><td>16.00    </td><td>14       </td><td>1.1428571</td></tr>\n",
       "\t<tr><td>99272013 </td><td>2        </td><td>11.20    </td><td>3        </td><td>3.733333 </td><td>1        </td><td> 4.34    </td><td> 3       </td><td>1.4466667</td></tr>\n",
       "</tbody>\n",
       "</table>\n"
      ],
      "text/latex": [
       "\\begin{tabular}{r|lllllllll}\n",
       " dog & homewins & homerevenue & homegames & homerev\\_multiple & awaywins & awayrevenue & awaygames & awayrev\\_multiple\\\\\n",
       "\\hline\n",
       "\t 99042011  & 3         & 18.90     & 3         & 6.300000  & 1         &  3.75     &  8        & 0.4687500\\\\\n",
       "\t 98102010  & 3         & 16.75     & 4         & 4.187500  & 3         & 13.80     &  9        & 1.5333333\\\\\n",
       "\t 98762016  & 2         & 12.40     & 3         & 4.133333  & 1         &  4.58     & 11        & 0.4163636\\\\\n",
       "\t 84672016  & 2         & 12.09     & 3         & 4.030000  & 1         &  4.86     &  4        & 1.2150000\\\\\n",
       "\t 85402011  & 3         & 11.30     & 3         & 3.766667  & 2         & 16.00     & 14        & 1.1428571\\\\\n",
       "\t 99272013  & 2         & 11.20     & 3         & 3.733333  & 1         &  4.34     &  3        & 1.4466667\\\\\n",
       "\\end{tabular}\n"
      ],
      "text/markdown": [
       "\n",
       "| dog | homewins | homerevenue | homegames | homerev_multiple | awaywins | awayrevenue | awaygames | awayrev_multiple |\n",
       "|---|---|---|---|---|---|---|---|---|\n",
       "| 99042011  | 3         | 18.90     | 3         | 6.300000  | 1         |  3.75     |  8        | 0.4687500 |\n",
       "| 98102010  | 3         | 16.75     | 4         | 4.187500  | 3         | 13.80     |  9        | 1.5333333 |\n",
       "| 98762016  | 2         | 12.40     | 3         | 4.133333  | 1         |  4.58     | 11        | 0.4163636 |\n",
       "| 84672016  | 2         | 12.09     | 3         | 4.030000  | 1         |  4.86     |  4        | 1.2150000 |\n",
       "| 85402011  | 3         | 11.30     | 3         | 3.766667  | 2         | 16.00     | 14        | 1.1428571 |\n",
       "| 99272013  | 2         | 11.20     | 3         | 3.733333  | 1         |  4.34     |  3        | 1.4466667 |\n",
       "\n"
      ],
      "text/plain": [
       "  dog      homewins homerevenue homegames homerev_multiple awaywins awayrevenue\n",
       "1 99042011 3        18.90       3         6.300000         1         3.75      \n",
       "2 98102010 3        16.75       4         4.187500         3        13.80      \n",
       "3 98762016 2        12.40       3         4.133333         1         4.58      \n",
       "4 84672016 2        12.09       3         4.030000         1         4.86      \n",
       "5 85402011 3        11.30       3         3.766667         2        16.00      \n",
       "6 99272013 2        11.20       3         3.733333         1         4.34      \n",
       "  awaygames awayrev_multiple\n",
       "1  8        0.4687500       \n",
       "2  9        1.5333333       \n",
       "3 11        0.4163636       \n",
       "4  4        1.2150000       \n",
       "5 14        1.1428571       \n",
       "6  3        1.4466667       "
      ]
     },
     "metadata": {},
     "output_type": "display_data"
    },
    {
     "data": {
      "text/html": [
       "<table>\n",
       "<thead><tr><th scope=col>dog</th><th scope=col>homewins</th><th scope=col>homerevenue</th><th scope=col>homegames</th><th scope=col>homerev_multiple</th><th scope=col>awaywins</th><th scope=col>awayrevenue</th><th scope=col>awaygames</th><th scope=col>awayrev_multiple</th></tr></thead>\n",
       "<tbody>\n",
       "\t<tr><td>102782010</td><td>1        </td><td> 3.50    </td><td>3        </td><td>1.166667 </td><td>1        </td><td>34.00    </td><td> 8       </td><td>4.250000 </td></tr>\n",
       "\t<tr><td> 98262015</td><td>2        </td><td> 9.29    </td><td>7        </td><td>1.327143 </td><td>5        </td><td>32.78    </td><td>10       </td><td>3.278000 </td></tr>\n",
       "\t<tr><td> 85972012</td><td>1        </td><td> 3.93    </td><td>3        </td><td>1.310000 </td><td>4        </td><td>34.89    </td><td>11       </td><td>3.171818 </td></tr>\n",
       "\t<tr><td> 85832009</td><td>1        </td><td> 3.80    </td><td>4        </td><td>0.950000 </td><td>7        </td><td>47.50    </td><td>15       </td><td>3.166667 </td></tr>\n",
       "\t<tr><td> 78442009</td><td>1        </td><td> 3.75    </td><td>6        </td><td>0.625000 </td><td>1        </td><td> 8.50    </td><td> 3       </td><td>2.833333 </td></tr>\n",
       "\t<tr><td>101942014</td><td>3        </td><td>17.20    </td><td>6        </td><td>2.866667 </td><td>5        </td><td>39.64    </td><td>14       </td><td>2.831429 </td></tr>\n",
       "</tbody>\n",
       "</table>\n"
      ],
      "text/latex": [
       "\\begin{tabular}{r|lllllllll}\n",
       " dog & homewins & homerevenue & homegames & homerev\\_multiple & awaywins & awayrevenue & awaygames & awayrev\\_multiple\\\\\n",
       "\\hline\n",
       "\t 102782010 & 1         &  3.50     & 3         & 1.166667  & 1         & 34.00     &  8        & 4.250000 \\\\\n",
       "\t  98262015 & 2         &  9.29     & 7         & 1.327143  & 5         & 32.78     & 10        & 3.278000 \\\\\n",
       "\t  85972012 & 1         &  3.93     & 3         & 1.310000  & 4         & 34.89     & 11        & 3.171818 \\\\\n",
       "\t  85832009 & 1         &  3.80     & 4         & 0.950000  & 7         & 47.50     & 15        & 3.166667 \\\\\n",
       "\t  78442009 & 1         &  3.75     & 6         & 0.625000  & 1         &  8.50     &  3        & 2.833333 \\\\\n",
       "\t 101942014 & 3         & 17.20     & 6         & 2.866667  & 5         & 39.64     & 14        & 2.831429 \\\\\n",
       "\\end{tabular}\n"
      ],
      "text/markdown": [
       "\n",
       "| dog | homewins | homerevenue | homegames | homerev_multiple | awaywins | awayrevenue | awaygames | awayrev_multiple |\n",
       "|---|---|---|---|---|---|---|---|---|\n",
       "| 102782010 | 1         |  3.50     | 3         | 1.166667  | 1         | 34.00     |  8        | 4.250000  |\n",
       "|  98262015 | 2         |  9.29     | 7         | 1.327143  | 5         | 32.78     | 10        | 3.278000  |\n",
       "|  85972012 | 1         |  3.93     | 3         | 1.310000  | 4         | 34.89     | 11        | 3.171818  |\n",
       "|  85832009 | 1         |  3.80     | 4         | 0.950000  | 7         | 47.50     | 15        | 3.166667  |\n",
       "|  78442009 | 1         |  3.75     | 6         | 0.625000  | 1         |  8.50     |  3        | 2.833333  |\n",
       "| 101942014 | 3         | 17.20     | 6         | 2.866667  | 5         | 39.64     | 14        | 2.831429  |\n",
       "\n"
      ],
      "text/plain": [
       "  dog       homewins homerevenue homegames homerev_multiple awaywins\n",
       "1 102782010 1         3.50       3         1.166667         1       \n",
       "2  98262015 2         9.29       7         1.327143         5       \n",
       "3  85972012 1         3.93       3         1.310000         4       \n",
       "4  85832009 1         3.80       4         0.950000         7       \n",
       "5  78442009 1         3.75       6         0.625000         1       \n",
       "6 101942014 3        17.20       6         2.866667         5       \n",
       "  awayrevenue awaygames awayrev_multiple\n",
       "1 34.00        8        4.250000        \n",
       "2 32.78       10        3.278000        \n",
       "3 34.89       11        3.171818        \n",
       "4 47.50       15        3.166667        \n",
       "5  8.50        3        2.833333        \n",
       "6 39.64       14        2.831429        "
      ]
     },
     "metadata": {},
     "output_type": "display_data"
    },
    {
     "data": {
      "text/html": [
       "<table>\n",
       "<thead><tr><th scope=col>fav</th><th scope=col>homelosses</th><th scope=col>againsthomerevenue</th><th scope=col>homegames</th><th scope=col>againsthomerev_multiple</th><th scope=col>awaylosses</th><th scope=col>againstawayrevenue</th><th scope=col>awaygames</th><th scope=col>againstawayrev_multiple</th></tr></thead>\n",
       "<tbody>\n",
       "\t<tr><td>97732016</td><td>2       </td><td>55.57   </td><td> 8      </td><td>6.946250</td><td>3       </td><td>23.74   </td><td> 9      </td><td>2.637778</td></tr>\n",
       "\t<tr><td>98252008</td><td>2       </td><td>28.00   </td><td> 8      </td><td>3.500000</td><td>3       </td><td>18.50   </td><td> 8      </td><td>2.312500</td></tr>\n",
       "\t<tr><td>97612008</td><td>2       </td><td>14.00   </td><td> 5      </td><td>2.800000</td><td>1       </td><td> 3.65   </td><td> 3      </td><td>1.216667</td></tr>\n",
       "\t<tr><td>99912012</td><td>6       </td><td>38.34   </td><td>14      </td><td>2.738571</td><td>2       </td><td> 9.25   </td><td> 6      </td><td>1.541667</td></tr>\n",
       "\t<tr><td>86502012</td><td>6       </td><td>44.65   </td><td>17      </td><td>2.626471</td><td>6       </td><td>27.21   </td><td>13      </td><td>2.093077</td></tr>\n",
       "\t<tr><td>97732008</td><td>1       </td><td>15.00   </td><td> 6      </td><td>2.500000</td><td>1       </td><td> 6.00   </td><td> 4      </td><td>1.500000</td></tr>\n",
       "</tbody>\n",
       "</table>\n"
      ],
      "text/latex": [
       "\\begin{tabular}{r|lllllllll}\n",
       " fav & homelosses & againsthomerevenue & homegames & againsthomerev\\_multiple & awaylosses & againstawayrevenue & awaygames & againstawayrev\\_multiple\\\\\n",
       "\\hline\n",
       "\t 97732016 & 2        & 55.57    &  8       & 6.946250 & 3        & 23.74    &  9       & 2.637778\\\\\n",
       "\t 98252008 & 2        & 28.00    &  8       & 3.500000 & 3        & 18.50    &  8       & 2.312500\\\\\n",
       "\t 97612008 & 2        & 14.00    &  5       & 2.800000 & 1        &  3.65    &  3       & 1.216667\\\\\n",
       "\t 99912012 & 6        & 38.34    & 14       & 2.738571 & 2        &  9.25    &  6       & 1.541667\\\\\n",
       "\t 86502012 & 6        & 44.65    & 17       & 2.626471 & 6        & 27.21    & 13       & 2.093077\\\\\n",
       "\t 97732008 & 1        & 15.00    &  6       & 2.500000 & 1        &  6.00    &  4       & 1.500000\\\\\n",
       "\\end{tabular}\n"
      ],
      "text/markdown": [
       "\n",
       "| fav | homelosses | againsthomerevenue | homegames | againsthomerev_multiple | awaylosses | againstawayrevenue | awaygames | againstawayrev_multiple |\n",
       "|---|---|---|---|---|---|---|---|---|\n",
       "| 97732016 | 2        | 55.57    |  8       | 6.946250 | 3        | 23.74    |  9       | 2.637778 |\n",
       "| 98252008 | 2        | 28.00    |  8       | 3.500000 | 3        | 18.50    |  8       | 2.312500 |\n",
       "| 97612008 | 2        | 14.00    |  5       | 2.800000 | 1        |  3.65    |  3       | 1.216667 |\n",
       "| 99912012 | 6        | 38.34    | 14       | 2.738571 | 2        |  9.25    |  6       | 1.541667 |\n",
       "| 86502012 | 6        | 44.65    | 17       | 2.626471 | 6        | 27.21    | 13       | 2.093077 |\n",
       "| 97732008 | 1        | 15.00    |  6       | 2.500000 | 1        |  6.00    |  4       | 1.500000 |\n",
       "\n"
      ],
      "text/plain": [
       "  fav      homelosses againsthomerevenue homegames againsthomerev_multiple\n",
       "1 97732016 2          55.57               8        6.946250               \n",
       "2 98252008 2          28.00               8        3.500000               \n",
       "3 97612008 2          14.00               5        2.800000               \n",
       "4 99912012 6          38.34              14        2.738571               \n",
       "5 86502012 6          44.65              17        2.626471               \n",
       "6 97732008 1          15.00               6        2.500000               \n",
       "  awaylosses againstawayrevenue awaygames againstawayrev_multiple\n",
       "1 3          23.74               9        2.637778               \n",
       "2 3          18.50               8        2.312500               \n",
       "3 1           3.65               3        1.216667               \n",
       "4 2           9.25               6        1.541667               \n",
       "5 6          27.21              13        2.093077               \n",
       "6 1           6.00               4        1.500000               "
      ]
     },
     "metadata": {},
     "output_type": "display_data"
    },
    {
     "data": {
      "text/html": [
       "<table>\n",
       "<thead><tr><th scope=col>fav</th><th scope=col>homelosses</th><th scope=col>againsthomerevenue</th><th scope=col>homegames</th><th scope=col>againsthomerev_multiple</th><th scope=col>awaylosses</th><th scope=col>againstawayrevenue</th><th scope=col>awaygames</th><th scope=col>againstawayrev_multiple</th></tr></thead>\n",
       "<tbody>\n",
       "\t<tr><td>102292013</td><td>3        </td><td>18.60    </td><td>11       </td><td>1.690909 </td><td>3        </td><td>15.47    </td><td> 4       </td><td>3.867500 </td></tr>\n",
       "\t<tr><td> 99062014</td><td>1        </td><td> 6.31    </td><td>16       </td><td>0.394375 </td><td>4        </td><td>43.47    </td><td>15       </td><td>2.898000 </td></tr>\n",
       "\t<tr><td> 97892014</td><td>4        </td><td>37.97    </td><td>16       </td><td>2.373125 </td><td>7        </td><td>42.24    </td><td>15       </td><td>2.816000 </td></tr>\n",
       "\t<tr><td> 97732016</td><td>2        </td><td>55.57    </td><td> 8       </td><td>6.946250 </td><td>3        </td><td>23.74    </td><td> 9       </td><td>2.637778 </td></tr>\n",
       "\t<tr><td> 85922015</td><td>5        </td><td>38.54    </td><td>17       </td><td>2.267059 </td><td>5        </td><td>20.56    </td><td> 8       </td><td>2.570000 </td></tr>\n",
       "\t<tr><td> 84662015</td><td>3        </td><td>18.33    </td><td>14       </td><td>1.309286 </td><td>4        </td><td>14.88    </td><td> 6       </td><td>2.480000 </td></tr>\n",
       "</tbody>\n",
       "</table>\n"
      ],
      "text/latex": [
       "\\begin{tabular}{r|lllllllll}\n",
       " fav & homelosses & againsthomerevenue & homegames & againsthomerev\\_multiple & awaylosses & againstawayrevenue & awaygames & againstawayrev\\_multiple\\\\\n",
       "\\hline\n",
       "\t 102292013 & 3         & 18.60     & 11        & 1.690909  & 3         & 15.47     &  4        & 3.867500 \\\\\n",
       "\t  99062014 & 1         &  6.31     & 16        & 0.394375  & 4         & 43.47     & 15        & 2.898000 \\\\\n",
       "\t  97892014 & 4         & 37.97     & 16        & 2.373125  & 7         & 42.24     & 15        & 2.816000 \\\\\n",
       "\t  97732016 & 2         & 55.57     &  8        & 6.946250  & 3         & 23.74     &  9        & 2.637778 \\\\\n",
       "\t  85922015 & 5         & 38.54     & 17        & 2.267059  & 5         & 20.56     &  8        & 2.570000 \\\\\n",
       "\t  84662015 & 3         & 18.33     & 14        & 1.309286  & 4         & 14.88     &  6        & 2.480000 \\\\\n",
       "\\end{tabular}\n"
      ],
      "text/markdown": [
       "\n",
       "| fav | homelosses | againsthomerevenue | homegames | againsthomerev_multiple | awaylosses | againstawayrevenue | awaygames | againstawayrev_multiple |\n",
       "|---|---|---|---|---|---|---|---|---|\n",
       "| 102292013 | 3         | 18.60     | 11        | 1.690909  | 3         | 15.47     |  4        | 3.867500  |\n",
       "|  99062014 | 1         |  6.31     | 16        | 0.394375  | 4         | 43.47     | 15        | 2.898000  |\n",
       "|  97892014 | 4         | 37.97     | 16        | 2.373125  | 7         | 42.24     | 15        | 2.816000  |\n",
       "|  97732016 | 2         | 55.57     |  8        | 6.946250  | 3         | 23.74     |  9        | 2.637778  |\n",
       "|  85922015 | 5         | 38.54     | 17        | 2.267059  | 5         | 20.56     |  8        | 2.570000  |\n",
       "|  84662015 | 3         | 18.33     | 14        | 1.309286  | 4         | 14.88     |  6        | 2.480000  |\n",
       "\n"
      ],
      "text/plain": [
       "  fav       homelosses againsthomerevenue homegames againsthomerev_multiple\n",
       "1 102292013 3          18.60              11        1.690909               \n",
       "2  99062014 1           6.31              16        0.394375               \n",
       "3  97892014 4          37.97              16        2.373125               \n",
       "4  97732016 2          55.57               8        6.946250               \n",
       "5  85922015 5          38.54              17        2.267059               \n",
       "6  84662015 3          18.33              14        1.309286               \n",
       "  awaylosses againstawayrevenue awaygames againstawayrev_multiple\n",
       "1 3          15.47               4        3.867500               \n",
       "2 4          43.47              15        2.898000               \n",
       "3 7          42.24              15        2.816000               \n",
       "4 3          23.74               9        2.637778               \n",
       "5 5          20.56               8        2.570000               \n",
       "6 4          14.88               6        2.480000               "
      ]
     },
     "metadata": {},
     "output_type": "display_data"
    }
   ],
   "source": [
    "goodhomedogs <- dogdata_new%>%filter(homerev_multiple>1)\n",
    "goodawaydogs <- dogdata_new%>%filter(awayrev_multiple>1)\n",
    "badhomefavs <- favdata_new%>%filter(againsthomerev_multiple>1)\n",
    "badawayfavs <- favdata_new%>%filter(againstawayrev_multiple>1)\n",
    "head(arrange(goodhomedogs,desc(homerev_multiple)))\n",
    "head(arrange(goodawaydogs,desc(awayrev_multiple)))\n",
    "head(arrange(badhomefavs,desc(againsthomerev_multiple)))\n",
    "head(arrange(badawayfavs,desc(againstawayrev_multiple)))"
   ]
  },
  {
   "cell_type": "markdown",
   "id": "excellent-broad",
   "metadata": {},
   "source": [
    "## analyse conditions of dog winning\n",
    "league,stage,season,date"
   ]
  },
  {
   "cell_type": "markdown",
   "id": "fleet-dining",
   "metadata": {},
   "source": [
    "### leaguescore"
   ]
  },
  {
   "cell_type": "code",
   "execution_count": 13,
   "id": "western-factor",
   "metadata": {},
   "outputs": [
    {
     "name": "stderr",
     "output_type": "stream",
     "text": [
      "Joining, by = \"league_id\"\n"
     ]
    },
    {
     "data": {
      "text/html": [
       "<table>\n",
       "<thead><tr><th scope=col>league_id</th><th scope=col>dogwins</th><th scope=col>games</th><th scope=col>leaguescore</th></tr></thead>\n",
       "<tbody>\n",
       "\t<tr><td>    1    </td><td>196      </td><td>1706     </td><td>0.1148886</td></tr>\n",
       "\t<tr><td> 1729    </td><td>403      </td><td>3040     </td><td>0.1325658</td></tr>\n",
       "\t<tr><td> 4769    </td><td>387      </td><td>3037     </td><td>0.1274284</td></tr>\n",
       "\t<tr><td> 7809    </td><td>322      </td><td>2447     </td><td>0.1315897</td></tr>\n",
       "\t<tr><td>10257    </td><td>368      </td><td>3014     </td><td>0.1220969</td></tr>\n",
       "\t<tr><td>13274    </td><td>278      </td><td>2445     </td><td>0.1137014</td></tr>\n",
       "</tbody>\n",
       "</table>\n"
      ],
      "text/latex": [
       "\\begin{tabular}{r|llll}\n",
       " league\\_id & dogwins & games & leaguescore\\\\\n",
       "\\hline\n",
       "\t     1     & 196       & 1706      & 0.1148886\\\\\n",
       "\t  1729     & 403       & 3040      & 0.1325658\\\\\n",
       "\t  4769     & 387       & 3037      & 0.1274284\\\\\n",
       "\t  7809     & 322       & 2447      & 0.1315897\\\\\n",
       "\t 10257     & 368       & 3014      & 0.1220969\\\\\n",
       "\t 13274     & 278       & 2445      & 0.1137014\\\\\n",
       "\\end{tabular}\n"
      ],
      "text/markdown": [
       "\n",
       "| league_id | dogwins | games | leaguescore |\n",
       "|---|---|---|---|\n",
       "|     1     | 196       | 1706      | 0.1148886 |\n",
       "|  1729     | 403       | 3040      | 0.1325658 |\n",
       "|  4769     | 387       | 3037      | 0.1274284 |\n",
       "|  7809     | 322       | 2447      | 0.1315897 |\n",
       "| 10257     | 368       | 3014      | 0.1220969 |\n",
       "| 13274     | 278       | 2445      | 0.1137014 |\n",
       "\n"
      ],
      "text/plain": [
       "  league_id dogwins games leaguescore\n",
       "1     1     196     1706  0.1148886  \n",
       "2  1729     403     3040  0.1325658  \n",
       "3  4769     387     3037  0.1274284  \n",
       "4  7809     322     2447  0.1315897  \n",
       "5 10257     368     3014  0.1220969  \n",
       "6 13274     278     2445  0.1137014  "
      ]
     },
     "metadata": {},
     "output_type": "display_data"
    }
   ],
   "source": [
    "byleagueplayed <- match2%>%group_by(league_id)%>%summarise(games=n())\n",
    "byleaguewin <- match2%>%filter(outcome!=0, ifelse(outcome==1,homeodds>3.5,awayodds>3.5))%>%\n",
    "  group_by(league_id)%>%summarise(dogwins=n())%>%left_join(byleagueplayed)%>%\n",
    "  mutate(leaguescore = dogwins/games)\n",
    "head(byleaguewin)\n",
    "#write.csv(byleaguewin,'byleaguewin.csv',row.names=F)"
   ]
  },
  {
   "cell_type": "markdown",
   "id": "alert-pastor",
   "metadata": {},
   "source": [
    "### stagescore"
   ]
  },
  {
   "cell_type": "code",
   "execution_count": 14,
   "id": "hearing-alarm",
   "metadata": {},
   "outputs": [
    {
     "name": "stderr",
     "output_type": "stream",
     "text": [
      "Joining, by = \"stage\"\n"
     ]
    },
    {
     "data": {
      "text/html": [
       "<table>\n",
       "<thead><tr><th scope=col>stage</th><th scope=col>dogwins</th><th scope=col>games</th><th scope=col>stagescore</th></tr></thead>\n",
       "<tbody>\n",
       "\t<tr><td>1        </td><td>79       </td><td>633      </td><td>0.1248025</td></tr>\n",
       "\t<tr><td>2        </td><td>82       </td><td>633      </td><td>0.1295419</td></tr>\n",
       "\t<tr><td>3        </td><td>65       </td><td>633      </td><td>0.1026856</td></tr>\n",
       "\t<tr><td>4        </td><td>81       </td><td>634      </td><td>0.1277603</td></tr>\n",
       "\t<tr><td>5        </td><td>78       </td><td>631      </td><td>0.1236133</td></tr>\n",
       "\t<tr><td>6        </td><td>77       </td><td>634      </td><td>0.1214511</td></tr>\n",
       "</tbody>\n",
       "</table>\n"
      ],
      "text/latex": [
       "\\begin{tabular}{r|llll}\n",
       " stage & dogwins & games & stagescore\\\\\n",
       "\\hline\n",
       "\t 1         & 79        & 633       & 0.1248025\\\\\n",
       "\t 2         & 82        & 633       & 0.1295419\\\\\n",
       "\t 3         & 65        & 633       & 0.1026856\\\\\n",
       "\t 4         & 81        & 634       & 0.1277603\\\\\n",
       "\t 5         & 78        & 631       & 0.1236133\\\\\n",
       "\t 6         & 77        & 634       & 0.1214511\\\\\n",
       "\\end{tabular}\n"
      ],
      "text/markdown": [
       "\n",
       "| stage | dogwins | games | stagescore |\n",
       "|---|---|---|---|\n",
       "| 1         | 79        | 633       | 0.1248025 |\n",
       "| 2         | 82        | 633       | 0.1295419 |\n",
       "| 3         | 65        | 633       | 0.1026856 |\n",
       "| 4         | 81        | 634       | 0.1277603 |\n",
       "| 5         | 78        | 631       | 0.1236133 |\n",
       "| 6         | 77        | 634       | 0.1214511 |\n",
       "\n"
      ],
      "text/plain": [
       "  stage dogwins games stagescore\n",
       "1 1     79      633   0.1248025 \n",
       "2 2     82      633   0.1295419 \n",
       "3 3     65      633   0.1026856 \n",
       "4 4     81      634   0.1277603 \n",
       "5 5     78      631   0.1236133 \n",
       "6 6     77      634   0.1214511 "
      ]
     },
     "metadata": {},
     "output_type": "display_data"
    }
   ],
   "source": [
    "bystage <- match2%>%group_by(stage)%>%summarise(games=n())\n",
    "bystagewin <- match2%>%filter(outcome!=0, ifelse(outcome==1,homeodds>3.5,awayodds>3.5))%>%\n",
    "  group_by(stage)%>%summarise(dogwins=n())%>%left_join(bystage)%>%\n",
    "  mutate(stagescore = dogwins/games)\n",
    "head(bystagewin)\n",
    "#write.csv(bystagewin,'bystagewin.csv',row.names=F)"
   ]
  },
  {
   "cell_type": "markdown",
   "id": "prerequisite-bathroom",
   "metadata": {},
   "source": [
    "### seasonscore"
   ]
  },
  {
   "cell_type": "code",
   "execution_count": 16,
   "id": "grand-auckland",
   "metadata": {},
   "outputs": [
    {
     "name": "stderr",
     "output_type": "stream",
     "text": [
      "Joining, by = \"season\"\n"
     ]
    },
    {
     "data": {
      "text/html": [
       "<table>\n",
       "<thead><tr><th scope=col>season</th><th scope=col>dogwins</th><th scope=col>games</th><th scope=col>seasonscore</th></tr></thead>\n",
       "<tbody>\n",
       "\t<tr><td>2008/2009</td><td>339      </td><td>2898     </td><td>0.1169772</td></tr>\n",
       "\t<tr><td>2009/2010</td><td>310      </td><td>2807     </td><td>0.1104382</td></tr>\n",
       "\t<tr><td>2010/2011</td><td>345      </td><td>2837     </td><td>0.1216073</td></tr>\n",
       "\t<tr><td>2011/2012</td><td>330      </td><td>2814     </td><td>0.1172708</td></tr>\n",
       "\t<tr><td>2012/2013</td><td>365      </td><td>2832     </td><td>0.1288842</td></tr>\n",
       "\t<tr><td>2013/2014</td><td>318      </td><td>2599     </td><td>0.1223548</td></tr>\n",
       "</tbody>\n",
       "</table>\n"
      ],
      "text/latex": [
       "\\begin{tabular}{r|llll}\n",
       " season & dogwins & games & seasonscore\\\\\n",
       "\\hline\n",
       "\t 2008/2009 & 339       & 2898      & 0.1169772\\\\\n",
       "\t 2009/2010 & 310       & 2807      & 0.1104382\\\\\n",
       "\t 2010/2011 & 345       & 2837      & 0.1216073\\\\\n",
       "\t 2011/2012 & 330       & 2814      & 0.1172708\\\\\n",
       "\t 2012/2013 & 365       & 2832      & 0.1288842\\\\\n",
       "\t 2013/2014 & 318       & 2599      & 0.1223548\\\\\n",
       "\\end{tabular}\n"
      ],
      "text/markdown": [
       "\n",
       "| season | dogwins | games | seasonscore |\n",
       "|---|---|---|---|\n",
       "| 2008/2009 | 339       | 2898      | 0.1169772 |\n",
       "| 2009/2010 | 310       | 2807      | 0.1104382 |\n",
       "| 2010/2011 | 345       | 2837      | 0.1216073 |\n",
       "| 2011/2012 | 330       | 2814      | 0.1172708 |\n",
       "| 2012/2013 | 365       | 2832      | 0.1288842 |\n",
       "| 2013/2014 | 318       | 2599      | 0.1223548 |\n",
       "\n"
      ],
      "text/plain": [
       "  season    dogwins games seasonscore\n",
       "1 2008/2009 339     2898  0.1169772  \n",
       "2 2009/2010 310     2807  0.1104382  \n",
       "3 2010/2011 345     2837  0.1216073  \n",
       "4 2011/2012 330     2814  0.1172708  \n",
       "5 2012/2013 365     2832  0.1288842  \n",
       "6 2013/2014 318     2599  0.1223548  "
      ]
     },
     "metadata": {},
     "output_type": "display_data"
    }
   ],
   "source": [
    "byseason <- match2%>%group_by(season)%>%summarise(games=n())\n",
    "byseasonwin <- match2%>%filter(outcome!=0, ifelse(outcome==1,homeodds>3.5,awayodds>3.5))%>%\n",
    "  group_by(season)%>%summarise(dogwins=n())%>%left_join(byseason)%>%\n",
    "  mutate(seasonscore = dogwins/games)\n",
    "head(byseasonwin)\n",
    "#write.csv(byseasonwin,'byseasonwin.csv',row.names=F)"
   ]
  },
  {
   "cell_type": "markdown",
   "id": "needed-antarctica",
   "metadata": {},
   "source": [
    "### weekscore"
   ]
  },
  {
   "cell_type": "code",
   "execution_count": 17,
   "id": "legitimate-bradley",
   "metadata": {},
   "outputs": [
    {
     "name": "stderr",
     "output_type": "stream",
     "text": [
      "Joining, by = \"week_num\"\n"
     ]
    },
    {
     "data": {
      "text/html": [
       "<table>\n",
       "<thead><tr><th scope=col>week_num</th><th scope=col>dogwins</th><th scope=col>games</th><th scope=col>weekscore</th></tr></thead>\n",
       "<tbody>\n",
       "\t<tr><td>1         </td><td>41        </td><td>330       </td><td>0.12424242</td></tr>\n",
       "\t<tr><td>2         </td><td>57        </td><td>498       </td><td>0.11445783</td></tr>\n",
       "\t<tr><td>3         </td><td>57        </td><td>575       </td><td>0.09913043</td></tr>\n",
       "\t<tr><td>4         </td><td>61        </td><td>548       </td><td>0.11131387</td></tr>\n",
       "\t<tr><td>5         </td><td>86        </td><td>730       </td><td>0.11780822</td></tr>\n",
       "\t<tr><td>6         </td><td>86        </td><td>648       </td><td>0.13271605</td></tr>\n",
       "</tbody>\n",
       "</table>\n"
      ],
      "text/latex": [
       "\\begin{tabular}{r|llll}\n",
       " week\\_num & dogwins & games & weekscore\\\\\n",
       "\\hline\n",
       "\t 1          & 41         & 330        & 0.12424242\\\\\n",
       "\t 2          & 57         & 498        & 0.11445783\\\\\n",
       "\t 3          & 57         & 575        & 0.09913043\\\\\n",
       "\t 4          & 61         & 548        & 0.11131387\\\\\n",
       "\t 5          & 86         & 730        & 0.11780822\\\\\n",
       "\t 6          & 86         & 648        & 0.13271605\\\\\n",
       "\\end{tabular}\n"
      ],
      "text/markdown": [
       "\n",
       "| week_num | dogwins | games | weekscore |\n",
       "|---|---|---|---|\n",
       "| 1          | 41         | 330        | 0.12424242 |\n",
       "| 2          | 57         | 498        | 0.11445783 |\n",
       "| 3          | 57         | 575        | 0.09913043 |\n",
       "| 4          | 61         | 548        | 0.11131387 |\n",
       "| 5          | 86         | 730        | 0.11780822 |\n",
       "| 6          | 86         | 648        | 0.13271605 |\n",
       "\n"
      ],
      "text/plain": [
       "  week_num dogwins games weekscore \n",
       "1 1        41      330   0.12424242\n",
       "2 2        57      498   0.11445783\n",
       "3 3        57      575   0.09913043\n",
       "4 4        61      548   0.11131387\n",
       "5 5        86      730   0.11780822\n",
       "6 6        86      648   0.13271605"
      ]
     },
     "metadata": {},
     "output_type": "display_data"
    }
   ],
   "source": [
    "byweek <- match2%>%group_by(week_num)%>%summarise(games=n())\n",
    "byweekwin <- match2%>%filter(outcome!=0, ifelse(outcome==1,homeodds>3.5,awayodds>3.5))%>%\n",
    "  group_by(week_num)%>%summarise(dogwins=n())%>%left_join(byweek)%>%filter(games>(mean(games)-sd(games)))%>%\n",
    "  mutate(weekscore = dogwins/games)\n",
    "head(byweekwin)\n",
    "#write.csv(byweekwin,'byweekwin.csv',row.names=F)"
   ]
  },
  {
   "cell_type": "markdown",
   "id": "loose-recruitment",
   "metadata": {},
   "source": [
    "### visualise conditions with mean ref line"
   ]
  },
  {
   "cell_type": "code",
   "execution_count": 18,
   "id": "centered-shuttle",
   "metadata": {},
   "outputs": [
    {
     "data": {
      "image/png": "[encoded data removed]",
      "text/plain": [
       "plot without title"
      ]
     },
     "metadata": {},
     "output_type": "display_data"
    }
   ],
   "source": [
    "byleaguewin[1] <- sapply(byleaguewin[1], as.character)\n",
    "ggplot(byleaguewin, aes(league_id, leaguescore)) +geom_point()+geom_hline(aes(yintercept =(mean(leaguescore))))"
   ]
  },
  {
   "cell_type": "code",
   "execution_count": 19,
   "id": "declared-oxford",
   "metadata": {},
   "outputs": [
    {
     "data": {
      "image/png": "[encoded data removed]",
      "text/plain": [
       "plot without title"
      ]
     },
     "metadata": {},
     "output_type": "display_data"
    }
   ],
   "source": [
    "ggplot(bystagewin, aes(stage, stagescore)) +geom_point()+geom_hline(aes(yintercept =(mean(stagescore))))"
   ]
  },
  {
   "cell_type": "code",
   "execution_count": 22,
   "id": "accepted-report",
   "metadata": {},
   "outputs": [
    {
     "data": {
      "image/png": "[encoded data removed]",
      "text/plain": [
       "plot without title"
      ]
     },
     "metadata": {},
     "output_type": "display_data"
    }
   ],
   "source": [
    "ggplot(byseasonwin, aes(season, seasonscore)) +geom_point()+geom_hline(aes(yintercept =(mean(seasonscore))))"
   ]
  },
  {
   "cell_type": "code",
   "execution_count": 23,
   "id": "absolute-dressing",
   "metadata": {},
   "outputs": [
    {
     "data": {
      "image/png": "[encoded data removed]",
      "text/plain": [
       "plot without title"
      ]
     },
     "metadata": {},
     "output_type": "display_data"
    }
   ],
   "source": [
    "ggplot(byweekwin, aes(week_num, weekscore)) +geom_point()+geom_hline(aes(yintercept =(mean(weekscore))))"
   ]
  },
  {
   "cell_type": "code",
   "execution_count": null,
   "id": "disabled-longer",
   "metadata": {},
   "outputs": [],
   "source": []
  },
  {
   "cell_type": "code",
   "execution_count": null,
   "id": "indian-position",
   "metadata": {},
   "outputs": [],
   "source": []
  }
 ],
 "metadata": {
  "kernelspec": {
   "display_name": "R",
   "language": "R",
   "name": "ir"
  },
  "language_info": {
   "codemirror_mode": "r",
   "file_extension": ".r",
   "mimetype": "text/x-r-source",
   "name": "R",
   "pygments_lexer": "r",
   "version": "3.6.1"
  }
 },
 "nbformat": 4,
 "nbformat_minor": 5
}
